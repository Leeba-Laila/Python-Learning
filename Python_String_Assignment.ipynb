{
 "cells": [
  {
   "cell_type": "code",
   "execution_count": 9,
   "metadata": {},
   "outputs": [
    {
     "name": "stdout",
     "output_type": "stream",
     "text": [
      "Integer Value:  19  & type is  <class 'int'>\n",
      "Floating Value:  20.67  & type is  <class 'float'>\n",
      "String Value:  Hello  & type is  <class 'str'>\n",
      "Boolean Value:  True  & type is  <class 'bool'>\n",
      "Complex Value:  (6+7j)  & type is  <class 'complex'>\n"
     ]
    }
   ],
   "source": [
    "# Define different types of variables (integer, boolean,string, float, complex) and print their values and their types\n",
    "\n",
    "intVar = 19\n",
    "floatVar = 20.67\n",
    "stringVar = \"Hello\"\n",
    "boolVar = True\n",
    "z = 6 + 7j\n",
    "print(\"Integer Value: \",intVar,\" & type is \",type(intVar))\n",
    "print(\"Floating Value: \",floatVar,\" & type is \",type(floatVar))\n",
    "print(\"String Value: \",stringVar,\" & type is \",type(stringVar))\n",
    "print(\"Boolean Value: \",boolVar,\" & type is \",type(boolVar))\n",
    "print(\"Complex Value: \",z,\" & type is \",type(z))"
   ]
  },
  {
   "cell_type": "code",
   "execution_count": 13,
   "metadata": {},
   "outputs": [
    {
     "name": "stdout",
     "output_type": "stream",
     "text": [
      "Conversion of floating number  20.67  to integer value: 20\n",
      "Conversion of integer number  19  to string value: 19\n"
     ]
    }
   ],
   "source": [
    "# In the above question convert float variable into integer type and integer variable into str type\n",
    "\n",
    "intVar = 19\n",
    "floatVar = 20.67\n",
    "stringVar = \"Hello\"\n",
    "boolVar = True\n",
    "z = 6 + 7j\n",
    "float2intVar = int(floatVar)\n",
    "int2strVar = str(intVar)\n",
    "print(\"Conversion of floating number \",floatVar,\" to integer value:\",float2intVar)\n",
    "print(\"Conversion of integer number \",intVar,\" to string value:\",int2strVar)"
   ]
  },
  {
   "cell_type": "code",
   "execution_count": 15,
   "metadata": {},
   "outputs": [
    {
     "name": "stdout",
     "output_type": "stream",
     "text": [
      "Conversion of the string \"abc\" into boolean gives  True\n"
     ]
    }
   ],
   "source": [
    "# What will you get converting “abc” into boolean ?\n",
    "\n",
    "var = \"abc\"\n",
    "castVar = bool(var)\n",
    "print(\"Conversion of the string \\\"abc\\\" into boolean gives \",castVar)"
   ]
  },
  {
   "cell_type": "code",
   "execution_count": 22,
   "metadata": {},
   "outputs": [
    {
     "name": "stdout",
     "output_type": "stream",
     "text": [
      "Enter a string :I am Legend\n",
      "am\n"
     ]
    }
   ],
   "source": [
    "# Print the substring from index 2 to index 4 for any given string. For example (llo) from “Hello World”\n",
    "\n",
    "var = input(\"Enter a string :\")\n",
    "subVar = var[2:4]\n",
    "print(subVar)"
   ]
  },
  {
   "cell_type": "code",
   "execution_count": 28,
   "metadata": {},
   "outputs": [
    {
     "name": "stdout",
     "output_type": "stream",
     "text": [
      "Enter the main string :I Robot\n",
      "\n",
      "Enter a substring to be checked :bo\n",
      "\n",
      "Substring present in the main string\n"
     ]
    }
   ],
   "source": [
    "# Write a program to check a substring in a given string. For example 'e' is present in the word 'Umbrella'\n",
    "\n",
    "var = input(\"Enter the main string :\")\n",
    "subVar = input(\"\\nEnter a substring to be checked :\")\n",
    "if((subVar in var) == 1):\n",
    "    print(\"\\nSubstring present in the main string\")\n",
    "else:\n",
    "    print(\"\\nSubstring NOT present in the main string\")"
   ]
  },
  {
   "cell_type": "code",
   "execution_count": 29,
   "metadata": {},
   "outputs": [
    {
     "name": "stdout",
     "output_type": "stream",
     "text": [
      "Not Equal\n"
     ]
    }
   ],
   "source": [
    "# Use the correct comparison operator to check if 5 is not equal to 10.\n",
    "\n",
    "if(5 != 10):\n",
    "    print(\"Not Equal\")\n",
    "else:\n",
    "    print(\"Equal\")"
   ]
  },
  {
   "cell_type": "code",
   "execution_count": 1,
   "metadata": {},
   "outputs": [
    {
     "name": "stdout",
     "output_type": "stream",
     "text": [
      "Enter a string :Aladdin\n",
      "\n",
      "Sorted format of entered string is  ['A', 'a', 'd', 'd', 'i', 'l', 'n']\n"
     ]
    }
   ],
   "source": [
    "# Write a program to get a string from the user and sort the words of the string in alphabetical order.\n",
    "\n",
    "var = input(\"Enter a string :\")\n",
    "print(\"\\nSorted format of entered string is \",sorted(var))"
   ]
  },
  {
   "cell_type": "code",
   "execution_count": 22,
   "metadata": {},
   "outputs": [
    {
     "name": "stdout",
     "output_type": "stream",
     "text": [
      "Enter first string :The\n",
      "\n",
      "Enter second string :Conjuring\n",
      "\n",
      "Strings combined with - is  The-Conjuring\n",
      "\n",
      "Strings combined with # is  The#Conjuring\n"
     ]
    }
   ],
   "source": [
    "# Join two words using special characters like ‘ – ‘ ,’#’\n",
    "\n",
    "var1 = input(\"Enter first string :\")\n",
    "var2 = input(\"\\nEnter second string :\")\n",
    "combine1 = var1 + \"-\" + var2\n",
    "print(\"\\nStrings combined with - is \",combine1)\n",
    "combine2 = var1 + \"#\" + var2\n",
    "print(\"\\nStrings combined with # is \",combine2)"
   ]
  },
  {
   "cell_type": "code",
   "execution_count": 17,
   "metadata": {},
   "outputs": [
    {
     "name": "stdout",
     "output_type": "stream",
     "text": [
      "The input string is \" Welcome to INDIA. india is awesome. \"\n",
      "The string to be checked is  India\n",
      "The number of occurance of \" India \" in the string is  2\n"
     ]
    }
   ],
   "source": [
    "#  Find all occurrences of “INDIA” in a given string ignoring the case. input_str = \"Welcome to INDIA. india is awesome.\n",
    "\n",
    "var = \"Welcome to INDIA. india is awesome.\"\n",
    "subVar = \"India\"\n",
    "caseVar = var.casefold()\n",
    "caseSubVar = subVar.casefold()\n",
    "strList = list(caseVar.split(\" \"))\n",
    "ln = len(strList)\n",
    "count = 0;\n",
    "if(caseSubVar in caseVar):\n",
    "    for i in range(0,ln):\n",
    "        if((caseSubVar in strList[i]) == 1):\n",
    "            count = count + 1\n",
    "else:\n",
    "    print(\"NIL\")\n",
    "print(\"The input string is \\\"\",var,\"\\\"\")\n",
    "print(\"The string to be checked is \",subVar)\n",
    "print(\"The number of occurance of \\\"\",subVar, \"\\\" in the string is \",count)"
   ]
  },
  {
   "cell_type": "code",
   "execution_count": 3,
   "metadata": {},
   "outputs": [
    {
     "name": "stdout",
     "output_type": "stream",
     "text": [
      "New string is  Henno World\n"
     ]
    }
   ],
   "source": [
    "# Replace first two ‘l’ with ‘n’ in ‘Hello World’\n",
    "\n",
    "var = \"Hello World\"\n",
    "var1 = var.replace('l','n',2)\n",
    "print(\"New string is \",var1)"
   ]
  },
  {
   "cell_type": "code",
   "execution_count": 4,
   "metadata": {},
   "outputs": [
    {
     "name": "stdout",
     "output_type": "stream",
     "text": [
      "Enter your name :Leeba Laila Umer\n",
      "Abbreviated Name:  L L Umer\n"
     ]
    }
   ],
   "source": [
    "# Write a program that takes your full name as input and displays the abbreviations of the first and middle names except the \n",
    "# last name which is displayed as it is. For example, if your name is Robert Brett Roser, then the output should be R.B.Roser.\n",
    "\n",
    "fnmName = input(\"Enter your name :\")\n",
    "fnmNameList = []\n",
    "fnmNameList = fnmName.split()\n",
    "ln = len(fnmNameList)\n",
    "abbr = []\n",
    "i = 1\n",
    "for name in fnmNameList:\n",
    "    frstChar = str(name)\n",
    "    if(i < ln):\n",
    "        abbr.append(frstChar[0])\n",
    "        i = i + 1\n",
    "    else:\n",
    "        lastName = str(name)\n",
    "        break\n",
    "abbrStr = ' '.join(map(str,abbr))\n",
    "finalName = abbrStr+\" \"+lastName\n",
    "print(\"Abbreviated Name: \",finalName)"
   ]
  },
  {
   "cell_type": "code",
   "execution_count": 12,
   "metadata": {},
   "outputs": [
    {
     "name": "stdout",
     "output_type": "stream",
     "text": [
      "Enter a string :RacEcar\n",
      "Entered string is a palindrome\n"
     ]
    }
   ],
   "source": [
    "# Write a program to check if a given string is a Palindrome.  A palindrome reads the same from front and back \n",
    "# e.g.- aba, ccaacc, mom, etc.\n",
    "\n",
    "str1 = input(\"Enter a string :\")\n",
    "str2 = str1[::-1]\n",
    "checkstr1 = str1.lower()\n",
    "checkstr2 = str2.lower()\n",
    "if(checkstr1 == checkstr2):\n",
    "    print(\"Entered string is a palindrome\")\n",
    "else:\n",
    "    print(\"Entered string is not a palindrome\")"
   ]
  },
  {
   "cell_type": "code",
   "execution_count": null,
   "metadata": {},
   "outputs": [],
   "source": []
  }
 ],
 "metadata": {
  "kernelspec": {
   "display_name": "Python 3",
   "language": "python",
   "name": "python3"
  },
  "language_info": {
   "codemirror_mode": {
    "name": "ipython",
    "version": 3
   },
   "file_extension": ".py",
   "mimetype": "text/x-python",
   "name": "python",
   "nbconvert_exporter": "python",
   "pygments_lexer": "ipython3",
   "version": "3.8.3"
  }
 },
 "nbformat": 4,
 "nbformat_minor": 4
}
