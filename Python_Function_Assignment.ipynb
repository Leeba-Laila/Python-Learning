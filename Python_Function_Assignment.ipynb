{
 "cells": [
  {
   "cell_type": "markdown",
   "metadata": {},
   "source": [
    "# Python Funtion Assignment"
   ]
  },
  {
   "cell_type": "markdown",
   "metadata": {},
   "source": [
    "### 1. Write a Python function that accepts a string and calculates the number of uppercase letters and lowercase letters."
   ]
  },
  {
   "cell_type": "code",
   "execution_count": 3,
   "metadata": {},
   "outputs": [
    {
     "name": "stdout",
     "output_type": "stream",
     "text": [
      "Enter a string: Winter is Coming!!!\n",
      "\n",
      "There are 2 uppercase letters and 12 lower case letters in the string \"Winter is Coming!!!\"\n"
     ]
    }
   ],
   "source": [
    "def UpLowCaseNum(paramTxt):\n",
    "    txtList = list(paramTxt)\n",
    "    upNum = 0\n",
    "    lowNum = 0\n",
    "    for i in range(0, len(txtList)):\n",
    "        if (txtList[i].isupper()) == True:\n",
    "            upNum = upNum + 1\n",
    "        elif (txtList[i].islower()) == True:\n",
    "            lowNum = lowNum + 1\n",
    "        else:\n",
    "            pass\n",
    "    print(\"\\nThere are %d uppercase letters and %d lower case letters in the string \\\"%s\\\"\" % (upNum, lowNum, paramTxt))\n",
    "\n",
    "txt = input(\"Enter a string: \")\n",
    "\n",
    "UpLowCaseNum(txt)"
   ]
  },
  {
   "cell_type": "markdown",
   "metadata": {},
   "source": [
    "### 2. Write a Python function to create and print a list where the values are squares of numbers between 1 and 30 (both included)."
   ]
  },
  {
   "cell_type": "code",
   "execution_count": 33,
   "metadata": {},
   "outputs": [
    {
     "name": "stdout",
     "output_type": "stream",
     "text": [
      "\n",
      "Numbers 1 to 30 and its squares:-\n",
      "\n",
      "---------------------------------\n",
      "\n",
      "Number:  1 , Square:  1 \n",
      "\n",
      "Number:  2 , Square:  4 \n",
      "\n",
      "Number:  3 , Square:  9 \n",
      "\n",
      "Number:  4 , Square:  16 \n",
      "\n",
      "Number:  5 , Square:  25 \n",
      "\n",
      "Number:  6 , Square:  36 \n",
      "\n",
      "Number:  7 , Square:  49 \n",
      "\n",
      "Number:  8 , Square:  64 \n",
      "\n",
      "Number:  9 , Square:  81 \n",
      "\n",
      "Number:  10 , Square:  100 \n",
      "\n",
      "Number:  11 , Square:  121 \n",
      "\n",
      "Number:  12 , Square:  144 \n",
      "\n",
      "Number:  13 , Square:  169 \n",
      "\n",
      "Number:  14 , Square:  196 \n",
      "\n",
      "Number:  15 , Square:  225 \n",
      "\n",
      "Number:  16 , Square:  256 \n",
      "\n",
      "Number:  17 , Square:  289 \n",
      "\n",
      "Number:  18 , Square:  324 \n",
      "\n",
      "Number:  19 , Square:  361 \n",
      "\n",
      "Number:  20 , Square:  400 \n",
      "\n",
      "Number:  21 , Square:  441 \n",
      "\n",
      "Number:  22 , Square:  484 \n",
      "\n",
      "Number:  23 , Square:  529 \n",
      "\n",
      "Number:  24 , Square:  576 \n",
      "\n",
      "Number:  25 , Square:  625 \n",
      "\n",
      "Number:  26 , Square:  676 \n",
      "\n",
      "Number:  27 , Square:  729 \n",
      "\n",
      "Number:  28 , Square:  784 \n",
      "\n",
      "Number:  29 , Square:  841 \n",
      "\n",
      "Number:  30 , Square:  900 \n",
      "\n"
     ]
    }
   ],
   "source": [
    "def numSquares(paramN):\n",
    "    numSqr = []\n",
    "    for i in range(1, paramN + 1):\n",
    "        numSqr.append(i)\n",
    "        numSqr.append(i ** 2)\n",
    "    print(\"\\nNumbers 1 to 30 and its squares:-\")\n",
    "    print(\"\\n---------------------------------\\n\")\n",
    "    for i in range(0, len(numSqr), 2):\n",
    "        print(\"Number: \", numSqr[i], \", Square: \", numSqr[i+1], \"\\n\")\n",
    "\n",
    "numSquares(30)"
   ]
  },
  {
   "cell_type": "markdown",
   "metadata": {},
   "source": [
    "### 3.Create a function that counts the number of elements within a list that are greater than 30."
   ]
  },
  {
   "cell_type": "code",
   "execution_count": 36,
   "metadata": {},
   "outputs": [
    {
     "name": "stdout",
     "output_type": "stream",
     "text": [
      "Enter the number of elements in the list: 10\n",
      "98\n",
      "6\n",
      "24\n",
      "31\n",
      "55\n",
      "11\n",
      "9\n",
      "43\n",
      "79\n",
      "62\n",
      "\n",
      "There are 6 numbers greater than 30 in the list [98, 6, 24, 31, 55, 11, 9, 43, 79, 62]\n"
     ]
    }
   ],
   "source": [
    "def findGreat30(paramList):\n",
    "    count = 0\n",
    "    for i in paramList:\n",
    "        if i > 30:\n",
    "            count = count + 1\n",
    "        else:\n",
    "            pass\n",
    "    if count <= 1:\n",
    "        print(\"\\nThere is {} number greater than 30 in the list, {}\".format(count, paramList))\n",
    "    else:\n",
    "        print(\"\\nThere are {} numbers greater than 30 in the list {}\".format(count, paramList))\n",
    "    \n",
    "numList = []\n",
    "n = int(input(\"Enter the number of elements in the list: \"))\n",
    "for i in range(0, n):\n",
    "    num = int(input())\n",
    "    numList.append(num)\n",
    "findGreat30(numList)"
   ]
  },
  {
   "cell_type": "markdown",
   "metadata": {},
   "source": [
    "### 4. Write a Python function that takes a list and returns a new list with unique elements of the first list."
   ]
  },
  {
   "cell_type": "code",
   "execution_count": 44,
   "metadata": {},
   "outputs": [
    {
     "name": "stdout",
     "output_type": "stream",
     "text": [
      "Enter the number of elements in the list: 10\n",
      "1\n",
      "9\n",
      "5\n",
      "1\n",
      "7\n",
      "3\n",
      "9\n",
      "9\n",
      "5\n",
      "4\n",
      "\n",
      "The entered list is  [1, 9, 5, 1, 7, 3, 9, 9, 5, 4]\n",
      "\n",
      "List with unique elements is  [1, 9, 5, 7, 3, 4]\n"
     ]
    }
   ],
   "source": [
    "def uniqueNum(paramList):\n",
    "    uniqueList = []\n",
    "    num1 = paramList[0]\n",
    "    for i in paramList:\n",
    "        if i not in uniqueList:\n",
    "            uniqueList.append(i)\n",
    "    print(\"\\nThe entered list is \", paramList)\n",
    "    print(\"\\nList with unique elements is \", uniqueList)\n",
    "\n",
    "numList = []\n",
    "n = int(input(\"Enter the number of elements in the list: \"))\n",
    "for i in range(0, n):\n",
    "    num = int(input())\n",
    "    numList.append(num)\n",
    "uniqueNum(numList)"
   ]
  },
  {
   "cell_type": "markdown",
   "metadata": {},
   "source": [
    "### 5. Create a function showEmployee() in such a way that it should accept employee name, and it’s salary and display both, and if the salary is missing in function call it should show it as 9000"
   ]
  },
  {
   "cell_type": "code",
   "execution_count": 50,
   "metadata": {},
   "outputs": [
    {
     "name": "stdout",
     "output_type": "stream",
     "text": [
      "Enter the employee name: Leeba Laila Umer\n",
      "Enter the employee salary: 35000\n",
      "\n",
      "\n",
      "Employee with salary:-\n",
      "\n",
      "Employee Name:  Leeba Laila Umer\n",
      "\n",
      "Employee Salary:  35000.0\n",
      "\n",
      "\n",
      "Employee without salary:-\n",
      "\n",
      "Employee Name:  Leeba Laila Umer\n",
      "\n",
      "Employee Salary:  9000\n"
     ]
    }
   ],
   "source": [
    "def showEmployee(paramName, paramSal = 9000):\n",
    "        print(\"\\nEmployee Name: \", paramName)\n",
    "        print(\"\\nEmployee Salary: \", paramSal)\n",
    "\n",
    "name = input(\"Enter the employee name: \")\n",
    "salary = float(input(\"Enter the employee salary: \"))\n",
    "print(\"\\n\\nEmployee with salary:-\")\n",
    "showEmployee(name, salary)\n",
    "print(\"\\n\\nEmployee without salary:-\")\n",
    "showEmployee(name)"
   ]
  },
  {
   "cell_type": "markdown",
   "metadata": {},
   "source": [
    "### 6. Write a Python program to count the even, odd numbers in a given array of integers using Lambda"
   ]
  },
  {
   "cell_type": "code",
   "execution_count": 51,
   "metadata": {},
   "outputs": [
    {
     "name": "stdout",
     "output_type": "stream",
     "text": [
      "\n",
      "The array is [72, 90, 45, 38, 29, 81, 73, 80, 17, 56, 64] \n",
      "Number of even numbers in the array: 6 \n",
      "Number of odd numbers in the array: 5\n"
     ]
    }
   ],
   "source": [
    "# Solution 1 for Qn: 6\n",
    "\n",
    "def numEvenOdd(paramArr):\n",
    "    evenCount = 0\n",
    "    oddCount = 0\n",
    "    findEven = lambda n: n%2 == 0\n",
    "    for i in paramArr:\n",
    "        if findEven(i):\n",
    "            evenCount = evenCount + 1\n",
    "        else:\n",
    "            oddCount = oddCount + 1\n",
    "    print(\"\\nThe array is {} \\nNumber of even numbers in the array: {} \\nNumber of odd numbers in the array: {}\".format(paramArr, evenCount, oddCount))\n",
    "\n",
    "array = [72, 90, 45, 38, 29, 81, 73, 80, 17, 56, 64]\n",
    "numEvenOdd(array)"
   ]
  },
  {
   "cell_type": "code",
   "execution_count": 52,
   "metadata": {},
   "outputs": [
    {
     "name": "stdout",
     "output_type": "stream",
     "text": [
      "\n",
      "The array is [72, 90, 45, 38, 29, 81, 73, 80, 17, 56, 64] \n",
      "Number of even numbers in the array: 6 \n",
      "Number of odd numbers in the array: 5\n"
     ]
    }
   ],
   "source": [
    "# Solution 2 for Qn: 6\n",
    "\n",
    "def numEvenOdd(paramArr):\n",
    "    evenCount = len(list(filter(lambda n: n%2 == 0, paramArr)))\n",
    "    oddCount = len(list(filter(lambda n: n%2 != 0, paramArr)))\n",
    "    print(\"\\nThe array is {} \\nNumber of even numbers in the array: {} \\nNumber of odd numbers in the array: {}\".format(paramArr, evenCount, oddCount))\n",
    "\n",
    "\n",
    "array = [72, 90, 45, 38, 29, 81, 73, 80, 17, 56, 64]\n",
    "numEvenOdd(array)"
   ]
  },
  {
   "cell_type": "markdown",
   "metadata": {},
   "source": [
    "### 7. Write a Python program to add two given lists using map and lambda"
   ]
  },
  {
   "cell_type": "code",
   "execution_count": 36,
   "metadata": {},
   "outputs": [
    {
     "name": "stdout",
     "output_type": "stream",
     "text": [
      "Enter the number of elements in the list: 5\n",
      "\n",
      "Enter the first list:-\n",
      "45\n",
      "36\n",
      "72\n",
      "15\n",
      "90\n",
      "\n",
      "Enter the second list:-\n",
      "15\n",
      "34\n",
      "9\n",
      "22\n",
      "5\n",
      "\n",
      "The lists entered are:-\n",
      "[45, 36, 72, 15, 90] \n",
      "[15, 34, 9, 22, 5] \n",
      "Sum of the list: [60, 70, 81, 37, 95]\n"
     ]
    }
   ],
   "source": [
    "def sumList(list1, list2):\n",
    "    sumVal = list(map(lambda x, y : x + y, list1, list2))\n",
    "    print(\"\\nThe lists entered are:-\\n{} \\n{} \\nSum of the list: {}\".format(list1, list2, sumVal))\n",
    "\n",
    "n = int(input(\"Enter the number of elements in the list: \"))\n",
    "numList1 = []\n",
    "numList2 = []\n",
    "print(\"\\nEnter the first list:-\")\n",
    "for i in range(0, n):\n",
    "    num = int(input())\n",
    "    numList1.append(num)\n",
    "print(\"\\nEnter the second list:-\")\n",
    "for i in range(0, n):\n",
    "    num = int(input())\n",
    "    numList2.append(num)\n",
    "sumList(numList1, numList2)"
   ]
  },
  {
   "cell_type": "markdown",
   "metadata": {},
   "source": [
    "### 8. Write a Python program to rearrange positive and negative numbers in a given array using Lambda and filter"
   ]
  },
  {
   "cell_type": "code",
   "execution_count": 39,
   "metadata": {},
   "outputs": [
    {
     "name": "stdout",
     "output_type": "stream",
     "text": [
      "\n",
      "The array before rearanging:  [72, -9, -5, 17, -7, 87, -50, 45, 60, -1, 64]\n",
      "\n",
      "Array after rearranging positive and negative numbers:  [-9, -5, -7, -50, -1, 72, 17, 87, 45, 60, 64]\n"
     ]
    }
   ],
   "source": [
    "# Solution 1 for Qn: 8\n",
    "\n",
    "def rearrageArray(paramArr):\n",
    "    print(\"\\nThe array before rearanging: \", paramArr)\n",
    "    filterNum = lambda paramArr: [x for x in paramArr if x < 0] + [x for x in paramArr if x >= 0]\n",
    "    newArr = filterNum(paramArr)\n",
    "    print(\"\\nArray after rearranging positive and negative numbers: \", newArr)\n",
    "\n",
    "array = [72, -9, -5, 17, -7, 87, -50, 45, 60, -1, 64]\n",
    "rearrageArray(array)"
   ]
  },
  {
   "cell_type": "code",
   "execution_count": 40,
   "metadata": {},
   "outputs": [
    {
     "name": "stdout",
     "output_type": "stream",
     "text": [
      "\n",
      "The array before rearanging:  [72, -9, -5, 17, -7, 87, -50, 45, 60, -1, 64]\n",
      "\n",
      "Array after rearranging positive and negative numbers:  [-9, -5, -7, -50, -1, 72, 17, 87, 45, 60, 64]\n"
     ]
    }
   ],
   "source": [
    "# Solution 2 for Qn: 8\n",
    "\n",
    "def rearrageArray(paramArr):\n",
    "    print(\"\\nThe array before rearanging: \", paramArr)\n",
    "    posVal = filter(lambda x: x > 0, paramArr)\n",
    "    negVal = filter(lambda x: x < 0, paramArr)\n",
    "    print(\"\\nArray after rearranging positive and negative numbers: \", list(negVal) + list(posVal))\n",
    "\n",
    "array = [72, -9, -5, 17, -7, 87, -50, 45, 60, -1, 64]\n",
    "arr = rearrageArray(array)"
   ]
  },
  {
   "cell_type": "markdown",
   "metadata": {},
   "source": [
    "### 9. Write a Python program to filter a list of integers using Lambda."
   ]
  },
  {
   "cell_type": "code",
   "execution_count": 38,
   "metadata": {},
   "outputs": [
    {
     "name": "stdout",
     "output_type": "stream",
     "text": [
      "\n",
      "The list before filtering:  [72, 90, 45, 38, 50, 29, 81, 73, 80, 17, 56, 64]\n",
      "\n",
      "The list after filtering by \">= 50\" :  [72, 90, 50, 81, 73, 80, 56, 64]\n"
     ]
    }
   ],
   "source": [
    "def filterList(paramList):\n",
    "    print(\"\\nThe list before filtering: \", paramList)\n",
    "    newList = list(filter(lambda n: n >= 50, paramList))\n",
    "    print(\"\\nThe list after filtering by \\\">= 50\\\" : \", newList)\n",
    "\n",
    "valList = [72, 90, 45, 38, 50, 29, 81, 73, 80, 17, 56, 64]\n",
    "filterList(valList)"
   ]
  },
  {
   "cell_type": "markdown",
   "metadata": {},
   "source": [
    "### 10. Write a Python program to find the intersection of two given arrays using Lambda and filter"
   ]
  },
  {
   "cell_type": "code",
   "execution_count": 43,
   "metadata": {},
   "outputs": [
    {
     "name": "stdout",
     "output_type": "stream",
     "text": [
      "\n",
      "The arrays are:\n",
      "\n",
      " [72, 90, 45, 38, 50, 29, 81, 73, 80, 17, 56, 64] \n",
      " [38, 98, 49, 29, 7, 56, 64, 100, 43, 89, 0, 76, 1]\n",
      "\n",
      "Intersection of the two arrays:  [38, 29, 56, 64]\n"
     ]
    }
   ],
   "source": [
    "def intersectArrays(paramArr1, paramArr2):\n",
    "    print(\"\\nThe arrays are:\\n\\n\", paramArr1, \"\\n\", paramArr2)\n",
    "    newArr = list(filter(lambda x: x in paramArr1, paramArr2))\n",
    "    print(\"\\nIntersection of the two arrays: \", newArr)\n",
    "    \n",
    "array1 = [72, 90, 45, 38, 50, 29, 81, 73, 80, 17, 56, 64]\n",
    "array2 = [38, 98, 49, 29, 7, 56, 64, 100, 43, 89, 0, 76, 1]\n",
    "intersectArrays(array1, array2)"
   ]
  },
  {
   "cell_type": "code",
   "execution_count": null,
   "metadata": {},
   "outputs": [],
   "source": []
  }
 ],
 "metadata": {
  "kernelspec": {
   "display_name": "Python 3",
   "language": "python",
   "name": "python3"
  },
  "language_info": {
   "codemirror_mode": {
    "name": "ipython",
    "version": 3
   },
   "file_extension": ".py",
   "mimetype": "text/x-python",
   "name": "python",
   "nbconvert_exporter": "python",
   "pygments_lexer": "ipython3",
   "version": "3.8.3"
  }
 },
 "nbformat": 4,
 "nbformat_minor": 4
}
