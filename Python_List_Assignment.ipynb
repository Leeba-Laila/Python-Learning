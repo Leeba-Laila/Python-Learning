{
 "cells": [
  {
   "cell_type": "markdown",
   "metadata": {},
   "source": [
    "# Python List Assignment"
   ]
  },
  {
   "cell_type": "code",
   "execution_count": 19,
   "metadata": {},
   "outputs": [
    {
     "name": "stdout",
     "output_type": "stream",
     "text": [
      "The list details:  ['Gurgaon', 'Mumbai', 'Bangalore']\n",
      "\n",
      "The second item of the list:  Mumbai\n",
      "\n",
      "The list after changing Gurgaon to Kerala:  ['Kerala', 'Mumbai', 'Bangalore']\n",
      "\n",
      "The list after removing the last element:  ['Kerala', 'Mumbai']\n"
     ]
    }
   ],
   "source": [
    "# 1. City = [‘Gurgaon’, ’Mumbai’, ’Bangalore’]\n",
    "# i) Print the second item from the list.\n",
    "# ii) Change the value from \"Gurgaon\" to \"Kerala\"\n",
    "# iii) Remove the last element of the list.\n",
    "\n",
    "City = ['Gurgaon', 'Mumbai', 'Bangalore']\n",
    "print(\"The list details: \",City)\n",
    "print(\"\\nThe second item of the list: \",City[1])\n",
    "\n",
    "for x in range(0,len(City)):\n",
    "    if(City[x] == 'Gurgaon'):\n",
    "        City[x] = 'Kerala'\n",
    "        break\n",
    "print(\"\\nThe list after changing Gurgaon to Kerala: \",City)\n",
    "\n",
    "City.pop(-1)\n",
    "print(\"\\nThe list after removing the last element: \",City)"
   ]
  },
  {
   "cell_type": "code",
   "execution_count": 22,
   "metadata": {},
   "outputs": [
    {
     "name": "stdout",
     "output_type": "stream",
     "text": [
      "The list details are:  ['AI', 'ML', 'DL', 'NLP', 'SQL', 'Python']\n",
      "\n",
      "Last item in the list:  Python\n"
     ]
    }
   ],
   "source": [
    "# 2. Use negative indexing to print the last item in the list. Make a list by yourself.\n",
    "\n",
    "findNegIndList = ['AI','ML','DL','NLP','SQL','Python']\n",
    "print(\"The list details are: \",findNegIndList)\n",
    "print(\"\\nLast item in the list: \",findNegIndList[-1])"
   ]
  },
  {
   "cell_type": "code",
   "execution_count": 23,
   "metadata": {},
   "outputs": [
    {
     "name": "stdout",
     "output_type": "stream",
     "text": [
      "The list details are:  ['AI', 'ML', 'DL', 'NLP', 'SQL', 'Python']\n",
      "\n",
      "Third, Fourth & Fifth items in the list:  ['DL', 'NLP', 'SQL']\n"
     ]
    }
   ],
   "source": [
    "# 3. Use a range of indexes to print the third, fourth, and fifth item in the list. Make a list by yourself.\n",
    "\n",
    "rangeIndList = ['AI','ML','DL','NLP','SQL','Python']\n",
    "print(\"The list details are: \",rangeIndList)\n",
    "print(\"\\nThird, Fourth & Fifth items in the list: \",rangeIndList[2:5])"
   ]
  },
  {
   "cell_type": "code",
   "execution_count": 24,
   "metadata": {},
   "outputs": [
    {
     "name": "stdout",
     "output_type": "stream",
     "text": [
      "The list details before deletion:  ['Gurgaon', 'Mumbai', 'Bangalore']\n",
      "\n",
      "The list details after deleting the last element:  ['Gurgaon', 'Mumbai']\n"
     ]
    }
   ],
   "source": [
    "# 4. Remove the last element from the city list\n",
    "\n",
    "City = ['Gurgaon', 'Mumbai', 'Bangalore']\n",
    "print(\"The list details before deletion: \",City)\n",
    "City.pop(-1)\n",
    "print(\"\\nThe list details after deleting the last element: \",City)"
   ]
  },
  {
   "cell_type": "code",
   "execution_count": 60,
   "metadata": {},
   "outputs": [
    {
     "name": "stdout",
     "output_type": "stream",
     "text": [
      "The list details are:  ['apple', 'lichi', 'guava', 'cherry', 'mango', 'watermelon', 'banana']\n",
      "\n",
      "The list after adding orange at the end of the list:  ['apple', 'lichi', 'guava', 'cherry', 'mango', 'watermelon', 'banana', 'orange']\n",
      "\n",
      "The list after adding lemon as the second item:  ['apple', 'lemon', 'guava', 'cherry', 'mango', 'watermelon', 'banana', 'orange']\n"
     ]
    }
   ],
   "source": [
    "# 5. fruits=[‘apple’,’lichi’,’guava’,’cherry’,’mango’,’watermelon’,’banana’]\n",
    "#  i) Add \"orange\" at the end of the above list.\n",
    "# ii) Add \"lemon\" as the second item in the fruits list\n",
    "\n",
    "fruits = ['apple','lichi','guava','cherry','mango','watermelon','banana']\n",
    "print(\"The list details are: \",fruits)\n",
    "fruits.append('orange')\n",
    "print(\"\\nThe list after adding orange at the end of the list: \",fruits)\n",
    "fruits[1] = 'lemon'\n",
    "print(\"\\nThe list after adding lemon as the second item: \",fruits)"
   ]
  },
  {
   "cell_type": "code",
   "execution_count": 62,
   "metadata": {},
   "outputs": [
    {
     "name": "stdout",
     "output_type": "stream",
     "text": [
      "The list details are:  ['apple', 'lichi', 'guava', 'cherry', 'mango', 'watermelon', 'banana']\n",
      "\n",
      "The list details after removing cherry:  ['apple', 'lichi', 'guava', 'mango', 'watermelon', 'banana']\n"
     ]
    }
   ],
   "source": [
    "# 6. Remove ‘cherry’ from the fruit list given above\n",
    "\n",
    "fruits = ['apple','lichi','guava','cherry','mango','watermelon','banana']\n",
    "print(\"The list details are: \",fruits)\n",
    "for x in range(0,len(fruits)):\n",
    "    if(fruits[x] == 'cherry'):\n",
    "        fruits.pop(x)\n",
    "        break\n",
    "print(\"\\nThe list details after removing cherry: \",fruits)"
   ]
  },
  {
   "cell_type": "code",
   "execution_count": 34,
   "metadata": {},
   "outputs": [
    {
     "name": "stdout",
     "output_type": "stream",
     "text": [
      "Enter the limit of elements in the list: 5\n",
      "\n",
      "Enter the numbers\n",
      "\n",
      "89\n",
      "30\n",
      "19\n",
      "24\n",
      "67\n",
      "\n",
      "The elements in descending order:  [89, 67, 30, 24, 19]\n"
     ]
    }
   ],
   "source": [
    "# 7. Write the python program to let the user input a list of numbers and print the list in descending order.\n",
    "\n",
    "a = []\n",
    "n = int(input(\"Enter the limit of elements in the list: \"))\n",
    "print(\"\\nEnter the numbers\\n\")\n",
    "for i in range(0,n):\n",
    "    a.append(int(input()))\n",
    "a.sort()\n",
    "a.reverse()\n",
    "print(\"\\nThe elements in descending order: \",a)"
   ]
  },
  {
   "cell_type": "code",
   "execution_count": 39,
   "metadata": {},
   "outputs": [
    {
     "name": "stdout",
     "output_type": "stream",
     "text": [
      "Enter the limit of elements in the first list: 3\n",
      "\n",
      "Enter the numbers:\n",
      "\n",
      "62\n",
      "45\n",
      "30\n",
      "\n",
      "Enter the limit of elements in the second list: 5\n",
      "\n",
      "Enter the numbers:\n",
      "\n",
      "97\n",
      "55\n",
      "34\n",
      "19\n",
      "20\n",
      "\n",
      "The first List:  [62, 45, 30]\n",
      "\n",
      "The second List:  [97, 55, 34, 19, 20]\n",
      "\n",
      "The combined List:  [62, 45, 30, 97, 55, 34, 19, 20]\n"
     ]
    }
   ],
   "source": [
    "# 8. Write the python program to let the user input two lists and combine both the lists.\n",
    "\n",
    "a = []\n",
    "b = []\n",
    "c = []\n",
    "n1 = int(input(\"Enter the limit of elements in the first list: \"))\n",
    "print(\"\\nEnter the numbers:\\n\")\n",
    "for x in range(0,n1):\n",
    "    a.append(int(input()))\n",
    "    \n",
    "n2 = int(input(\"\\nEnter the limit of elements in the second list: \"))\n",
    "print(\"\\nEnter the numbers:\\n\")\n",
    "for y in range(0,n2):\n",
    "    b.append(int(input()))\n",
    "\n",
    "print(\"\\nThe first List: \",a)\n",
    "print(\"\\nThe second List: \",b)\n",
    "\n",
    "a.extend(b)\n",
    "print(\"\\nThe combined List: \",a)"
   ]
  },
  {
   "cell_type": "code",
   "execution_count": 41,
   "metadata": {},
   "outputs": [
    {
     "name": "stdout",
     "output_type": "stream",
     "text": [
      "\n",
      "The List:  [10, 45, 78, 11, 9, 23]\n",
      "\n",
      "The List after shuffling:  [11, 10, 45, 23, 78, 9]\n"
     ]
    }
   ],
   "source": [
    "# 9. List = [10, 45, 78, 11, 9, 23]. Shuffle this list.\n",
    "\n",
    "import random\n",
    "\n",
    "shuffList = [10, 45, 78, 11, 9, 23]\n",
    "print(\"\\nThe List: \",shuffList)\n",
    "random.shuffle(shuffList)\n",
    "print(\"\\nThe List after shuffling: \",shuffList)"
   ]
  },
  {
   "cell_type": "code",
   "execution_count": 59,
   "metadata": {},
   "outputs": [
    {
     "name": "stdout",
     "output_type": "stream",
     "text": [
      "Got it!!! Got the  z\n",
      "\n",
      "Got the list  ['baz', 2.718]\n"
     ]
    }
   ],
   "source": [
    "# 10. x = [10, [3.141, 20, [30, 'baz', 2.718]], 'foo']\n",
    "# i) What is the expression that returns the 'z' in 'baz'?\n",
    "# ii) What expression returns the list ['baz', 2.718]?\n",
    "\n",
    "x = [10, [3.141, 20, [30, 'baz', 2.718]], 'foo']\n",
    "\n",
    "# The expression that returns the 'z' in 'baz'\n",
    "print(\"Got it!!! Got the \",x[1][2][1][-1])\n",
    "\n",
    "# The expression that returns the list ['baz', 2.718]\n",
    "print(\"\\nGot the list \",x[1][2][-2:])"
   ]
  },
  {
   "cell_type": "code",
   "execution_count": 57,
   "metadata": {},
   "outputs": [
    {
     "name": "stdout",
     "output_type": "stream",
     "text": [
      "The list details:  [10, [3.141, 20, [30, 'baz', 2.718]], 'foo']\n",
      "\n",
      "Extracted  20  from the list\n"
     ]
    }
   ],
   "source": [
    "# 11. Extract element 20 from the above list.\n",
    "\n",
    "x = [10, [3.141, 20, [30, 'baz', 2.718]], 'foo']\n",
    "print(\"The list details: \",x)\n",
    "print(\"\\nExtracted \",x[1][1],\" from the list\")"
   ]
  },
  {
   "cell_type": "code",
   "execution_count": 58,
   "metadata": {},
   "outputs": [
    {
     "name": "stdout",
     "output_type": "stream",
     "text": [
      "List before updation:  [1, 2, 7, 8]\n",
      "\n",
      "\n",
      "List after updation:  [1, 2, 3, 4, 5, 6, 7, 8]\n"
     ]
    }
   ],
   "source": [
    "# 12. You have a list a = [1, 2, 7, 8]\n",
    "# Write a Python statement using slice assignment that will fill in the missing values so that a equals [1, 2, 3, 4, 5, 6, 7, 8]\n",
    "\n",
    "a = [1, 2, 7, 8]\n",
    "print(\"List before updation: \",a)\n",
    "#between the index 1 and 2 of a, we need to insert [3,4,5,6].So start index is 2 as it is considered and \n",
    "#end index is also 2 as it is not considered. If end index 3 is given, then final asnwer would be without 7. Hence end index = 2\n",
    "a[2:2] = [3,4,5,6]\n",
    "print(\"\\n\\nList after updation: \",a)"
   ]
  },
  {
   "cell_type": "code",
   "execution_count": null,
   "metadata": {},
   "outputs": [],
   "source": []
  }
 ],
 "metadata": {
  "kernelspec": {
   "display_name": "Python 3",
   "language": "python",
   "name": "python3"
  },
  "language_info": {
   "codemirror_mode": {
    "name": "ipython",
    "version": 3
   },
   "file_extension": ".py",
   "mimetype": "text/x-python",
   "name": "python",
   "nbconvert_exporter": "python",
   "pygments_lexer": "ipython3",
   "version": "3.8.3"
  }
 },
 "nbformat": 4,
 "nbformat_minor": 4
}
