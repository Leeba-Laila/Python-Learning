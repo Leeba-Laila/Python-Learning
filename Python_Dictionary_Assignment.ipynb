{
 "cells": [
  {
   "cell_type": "markdown",
   "metadata": {},
   "source": [
    "# Given a dictionary:\n",
    "\n",
    "car = {\"brand\": \"Ford\", \"model\":\"Mustang\", \"year\":1964}"
   ]
  },
  {
   "cell_type": "code",
   "execution_count": 1,
   "metadata": {},
   "outputs": [
    {
     "name": "stdout",
     "output_type": "stream",
     "text": [
      "Model of the car:  Mustang\n"
     ]
    }
   ],
   "source": [
    "# 1. Print the value of the \"model\" key of the car dictionary.\n",
    "\n",
    "car = {\"brand\": \"Ford\", \"model\":\"Mustang\", \"year\":1964}\n",
    "print(\"Model of the car: \",car.get(\"model\"))"
   ]
  },
  {
   "cell_type": "code",
   "execution_count": 2,
   "metadata": {},
   "outputs": [
    {
     "name": "stdout",
     "output_type": "stream",
     "text": [
      "Year before change :  1964\n",
      "Year after change :  2020\n"
     ]
    }
   ],
   "source": [
    "# 2. Change the \"year\" value from 1964 to 2020.\n",
    "\n",
    "print(\"Year before change : \",car.get(\"year\"))\n",
    "car[\"year\"] = 2020\n",
    "print(\"Year after change : \",car.get(\"year\"))"
   ]
  },
  {
   "cell_type": "code",
   "execution_count": 3,
   "metadata": {},
   "outputs": [
    {
     "name": "stdout",
     "output_type": "stream",
     "text": [
      "Car details before adding its color:\n",
      " {'brand': 'Ford', 'model': 'Mustang', 'year': 2020}\n",
      "\n",
      "Car details after adding its color:\n",
      " {'brand': 'Ford', 'model': 'Mustang', 'year': 2020, 'colour': 'Red'}\n"
     ]
    }
   ],
   "source": [
    "# 3. Add the key/value pair \"colour”: \"red\" to the car dictionary\n",
    "\n",
    "print(\"Car details before adding its color:\\n\",car)\n",
    "car[\"colour\"] = \"Red\"\n",
    "print(\"\\nCar details after adding its color:\\n\",car)"
   ]
  },
  {
   "cell_type": "markdown",
   "metadata": {},
   "source": [
    "# Given a dictionary inventory :\n",
    "\n",
    "inventory = {'gold' : 500, 'pouch' : ['flint', 'twine', 'gemstone'], 'backpack' : ['xylophone', 'dagger', 'bedroll', 'bread', 'loaf']}\n"
   ]
  },
  {
   "cell_type": "code",
   "execution_count": 58,
   "metadata": {},
   "outputs": [
    {
     "name": "stdout",
     "output_type": "stream",
     "text": [
      "Inventory details before adding the key, pocket:\n",
      " {'gold': 500, 'pouch': ['flint', 'twine', 'gemstone'], 'backpack': ['xylophone', 'dagger', 'bedroll', 'bread', 'loaf']}\n",
      "\n",
      "Inventory details after adding the key, pocket:\n",
      " {'gold': 500, 'pouch': ['flint', 'twine', 'gemstone'], 'backpack': ['xylophone', 'dagger', 'bedroll', 'bread', 'loaf'], 'pocket': ['seashell', 'strangeberry', 'lint']}\n"
     ]
    }
   ],
   "source": [
    "# 4. Add a key to inventory called 'pocket' and Set the value of 'pocket' to be a list consisting of the strings \n",
    "# 'seashell', 'strangeberry', and 'lint'.\n",
    "\n",
    "inventory = {'gold' : 500, 'pouch' : ['flint', 'twine', 'gemstone'], 'backpack' : ['xylophone', 'dagger', 'bedroll', 'bread', 'loaf']}\n",
    "print(\"Inventory details before adding the key, pocket:\\n\",inventory)\n",
    "inventory[\"pocket\"] = [\"seashell\",\"strangeberry\",\"lint\"]\n",
    "print(\"\\nInventory details after adding the key, pocket:\\n\",inventory)"
   ]
  },
  {
   "cell_type": "code",
   "execution_count": 59,
   "metadata": {},
   "outputs": [
    {
     "name": "stdout",
     "output_type": "stream",
     "text": [
      "Inventory details before sorting backpack values:\n",
      " ['xylophone', 'dagger', 'bedroll', 'bread', 'loaf']\n",
      "\n",
      "Inventory details after sorting backpack values:\n",
      " ['bedroll', 'bread', 'dagger', 'loaf', 'xylophone']\n"
     ]
    }
   ],
   "source": [
    "# 5. Sort the items in the list stored under the 'backpack' key.\n",
    "\n",
    "print(\"Inventory details before sorting backpack values:\\n\",inventory[\"backpack\"])\n",
    "inventory[\"backpack\"].sort()\n",
    "print(\"\\nInventory details after sorting backpack values:\\n\",inventory[\"backpack\"])"
   ]
  },
  {
   "cell_type": "code",
   "execution_count": 124,
   "metadata": {},
   "outputs": [
    {
     "name": "stdout",
     "output_type": "stream",
     "text": [
      "Backpack details in inventory before deleting dagger:\n",
      " {'gold': 500, 'pouch': ['flint', 'twine', 'gemstone'], 'backpack': ['xylophone', 'dagger', 'bedroll', 'bread', 'loaf'], 'pocket': ['seashell', 'strangeberry', 'lint']}\n",
      "\n",
      "\n",
      "Inventory details after deleting dagger from the key, backpack:\n",
      " {'gold': 500, 'pouch': ['flint', 'twine', 'gemstone'], 'backpack': ['xylophone', 'bedroll', 'bread', 'loaf'], 'pocket': ['seashell', 'strangeberry', 'lint']}\n"
     ]
    }
   ],
   "source": [
    "# 6. Remove 'dagger' from the list of items stored under the 'backpack' key.\n",
    "\n",
    "inventory = {'gold': 500, 'pouch': ['flint', 'twine', 'gemstone'], 'backpack': ['xylophone', 'dagger', 'bedroll', 'bread', 'loaf'], 'pocket': ['seashell', 'strangeberry', 'lint']}\n",
    "print(\"Backpack details in inventory before deleting dagger:\\n\",inventory)\n",
    "if('dagger' in inventory['backpack']):\n",
    "    inventory['backpack'].remove('dagger')\n",
    "print(\"\\n\\nInventory details after deleting dagger from the key, backpack:\\n\",inventory)"
   ]
  },
  {
   "cell_type": "code",
   "execution_count": 115,
   "metadata": {},
   "outputs": [
    {
     "name": "stdout",
     "output_type": "stream",
     "text": [
      "Value of gold before adding 50:  500\n",
      "\n",
      "Value of gold after adding 50:  550\n"
     ]
    }
   ],
   "source": [
    "# 7. Add 50 to the number stored under the 'gold' key.\n",
    "\n",
    "print(\"Value of gold before adding 50: \",inventory[\"gold\"])\n",
    "if('gold' in inventory.keys()):\n",
    "    inventory['gold'] = inventory['gold'] + 50\n",
    "print(\"\\nValue of gold after adding 50: \",inventory[\"gold\"])"
   ]
  },
  {
   "cell_type": "code",
   "execution_count": 52,
   "metadata": {},
   "outputs": [
    {
     "name": "stdout",
     "output_type": "stream",
     "text": [
      "First Dictionary:  {'AI': 75, 'ML': 57, 'DL': 90}\n",
      "\n",
      "Second Dictionary:  {'Python': 88, 'AWS': 60, 'PowerBI': 51}\n",
      "\n",
      "Third Dictionary:  {'NLP': 83, 'Azure': 72, 'SQL': 98}\n",
      "\n",
      "\n",
      "Concatenated dictionary :  {'AI': 75, 'ML': 57, 'DL': 90, 'Python': 88, 'AWS': 60, 'PowerBI': 51, 'NLP': 83, 'Azure': 72, 'SQL': 98}\n"
     ]
    }
   ],
   "source": [
    "# 8. Write a Python script to concatenate three dictionaries to create a new one. Make dictionaries yourself.\n",
    "\n",
    "dictConcat1 = {'AI': 75, 'ML': 57, 'DL' : 90}\n",
    "dictConcat2 = {'Python': 88, 'AWS': 60, 'PowerBI' : 51}\n",
    "dictConcat3 = {'NLP':83, 'Azure':72, 'SQL':98}\n",
    "print(\"First Dictionary: \",dictConcat1)\n",
    "print(\"\\nSecond Dictionary: \",dictConcat2)\n",
    "print(\"\\nThird Dictionary: \",dictConcat3)\n",
    "concatDict = {**dictConcat1, **dictConcat2, **dictConcat3}\n",
    "print(\"\\n\\nConcatenated dictionary : \", concatDict)"
   ]
  },
  {
   "cell_type": "code",
   "execution_count": 68,
   "metadata": {},
   "outputs": [
    {
     "name": "stdout",
     "output_type": "stream",
     "text": [
      "Dictionary before adding all values:\n",
      " {'a': 100, 'b': 20, 'c': 50, 'd': 30, 'e': 50, 'f': 250, 'g': 700}\n",
      "\n",
      "The sum of values in the dictionary:  1200\n"
     ]
    }
   ],
   "source": [
    "# 9. Write a Python program to sum all the items in a dictionary.\n",
    "\n",
    "sumDict = {'a': 100, 'b': 20, 'c': 50, 'd': 30, 'e': 50, 'f': 250, 'g': 700}\n",
    "print(\"Dictionary before adding all values:\\n\",sumDict)\n",
    "total = 0\n",
    "for i in sumDict.values():\n",
    "    total += i\n",
    "print(\"\\nThe sum of values in the dictionary: \",total)"
   ]
  },
  {
   "cell_type": "code",
   "execution_count": 75,
   "metadata": {},
   "outputs": [
    {
     "name": "stdout",
     "output_type": "stream",
     "text": [
      "Enter a key to check the availability: bar\n",
      "\n",
      "Key already exist\n"
     ]
    }
   ],
   "source": [
    "# 10. Write a Python script to check whether a given key already exists in a dictionary.\n",
    "# d = {'foo': 100, 'bar': 200, 'baz': 300}\n",
    "\n",
    "d = {'foo': 100, 'bar': 200, 'baz': 300}\n",
    "def checkKey(inputKey):\n",
    "    if(inputKey in d):\n",
    "        print(\"\\nKey already exist\")\n",
    "    else:\n",
    "        print(\"\\nKey do not exist\")\n",
    "inputKey = input(\"Enter a key to check the availability: \")\n",
    "checkKey(inputKey)"
   ]
  },
  {
   "cell_type": "code",
   "execution_count": 89,
   "metadata": {},
   "outputs": [
    {
     "name": "stdout",
     "output_type": "stream",
     "text": [
      "{'foo': 100, 'baz': 300}\n"
     ]
    }
   ],
   "source": [
    "# 11. What method call will delete the entry whose value is 200?\n",
    "\n",
    "d = {'foo': 100, 'bar': 200, 'baz': 300}\n",
    "for x, y in d.items():\n",
    "    if(y == 200):\n",
    "        d.pop(x)\n",
    "        break\n",
    "print(d)"
   ]
  },
  {
   "cell_type": "code",
   "execution_count": 126,
   "metadata": {},
   "outputs": [
    {
     "name": "stdout",
     "output_type": "stream",
     "text": [
      "The Dictionary details are: {'AI': 75, 'ML': 57, 'DL': 90}\n",
      "\n",
      "\n",
      "The keys in the dictionary are:  dict_keys(['AI', 'ML', 'DL'])\n",
      "\n",
      "\n",
      "The keys, AI & ML check:  True\n",
      "\n",
      "The keys, DL & ML check:  True\n",
      "\n",
      "The keys, AI & 90 check:  False\n"
     ]
    }
   ],
   "source": [
    "# 12. Write a Python program to check multiple keys exists in a dictionary.\n",
    "\n",
    "multiKeyDict = {'AI': 75, 'ML': 57, 'DL' : 90}\n",
    "print(\"The Dictionary details are:\",multiKeyDict)\n",
    "print(\"\\n\\nThe keys in the dictionary are: \",multiKeyDict.keys())\n",
    "print(\"\\n\\nThe keys, AI & ML check: \",multiKeyDict.keys() >= {'AI', 'ML'})\n",
    "print(\"\\nThe keys, DL & ML check: \",multiKeyDict.keys() >= {'DL', 'ML'})\n",
    "print(\"\\nThe keys, AI & 90 check: \",multiKeyDict.keys() >= {'AI', 90})"
   ]
  },
  {
   "cell_type": "code",
   "execution_count": null,
   "metadata": {},
   "outputs": [],
   "source": []
  }
 ],
 "metadata": {
  "kernelspec": {
   "display_name": "Python 3",
   "language": "python",
   "name": "python3"
  },
  "language_info": {
   "codemirror_mode": {
    "name": "ipython",
    "version": 3
   },
   "file_extension": ".py",
   "mimetype": "text/x-python",
   "name": "python",
   "nbconvert_exporter": "python",
   "pygments_lexer": "ipython3",
   "version": "3.8.3"
  }
 },
 "nbformat": 4,
 "nbformat_minor": 4
}
