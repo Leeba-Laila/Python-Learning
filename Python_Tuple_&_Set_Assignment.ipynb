{
 "cells": [
  {
   "cell_type": "code",
   "execution_count": 10,
   "metadata": {},
   "outputs": [
    {
     "name": "stdout",
     "output_type": "stream",
     "text": [
      "Items in tuple before adding a new item:  ('Python', 'AI', 'ML', 'NLP')\n",
      "\n",
      "Items in tuple after adding a new item:  ('Python', 'AI', 'ML', 'NLP', 'DL')\n"
     ]
    }
   ],
   "source": [
    "# Write a Python program to add an item in a tuple.\n",
    "\n",
    "items = (\"Python\",\"AI\",\"ML\",\"NLP\")\n",
    "print(\"Items in tuple before adding a new item: \",items)\n",
    "itemsList = list(items)\n",
    "itemsList.append(\"DL\")\n",
    "items = tuple(itemsList)\n",
    "print(\"\\nItems in tuple after adding a new item: \",items)"
   ]
  },
  {
   "cell_type": "code",
   "execution_count": 22,
   "metadata": {},
   "outputs": [
    {
     "name": "stdout",
     "output_type": "stream",
     "text": [
      "Items in tuple before reversing:  ('Python', 'AI', 'ML', 'NLP')\n",
      "\n",
      "Items in tuple after reversing:  ('NLP', 'ML', 'AI', 'Python')\n"
     ]
    }
   ],
   "source": [
    "# Write a Python program to reverse a tuple\n",
    "\n",
    "items = (\"Python\",\"AI\",\"ML\",\"NLP\")\n",
    "print(\"Items in tuple before reversing: \",items)\n",
    "reverseItems = items[::-1] \n",
    "print(\"\\nItems in tuple after reversing: \",reverseItems)"
   ]
  },
  {
   "cell_type": "code",
   "execution_count": 21,
   "metadata": {},
   "outputs": [
    {
     "name": "stdout",
     "output_type": "stream",
     "text": [
      "Tuples before swapping\n",
      "Tuple 1 : (11, 22)\n",
      "Tuple 2 : (99, 88)\n",
      "\n",
      "\n",
      "Tuples after swapping\n",
      "Tuple 1 : (99, 88)\n",
      "Tuple 2 : (11, 22)\n"
     ]
    }
   ],
   "source": [
    "# Swap the following two tuples - tuple1 = (11, 22)  tuple2 = (99, 88)\n",
    "\n",
    "tuple1 = (11, 22)  \n",
    "tuple2 = (99, 88)\n",
    "print(\"Tuples before swapping\")\n",
    "print(\"Tuple 1 :\",tuple1)\n",
    "print(\"Tuple 2 :\",tuple2)\n",
    "tempTuple = ()\n",
    "tempTuple = tuple1\n",
    "tuple1 = tuple2\n",
    "tuple2 = tempTuple\n",
    "print(\"\\n\\nTuples after swapping\")\n",
    "print(\"Tuple 1 :\",tuple1)\n",
    "print(\"Tuple 2 :\",tuple2)"
   ]
  },
  {
   "cell_type": "code",
   "execution_count": 45,
   "metadata": {},
   "outputs": [
    {
     "name": "stdout",
     "output_type": "stream",
     "text": [
      "Tuple before change:  (11, [22, 33], 44, 55)\n",
      "\n",
      "Tuple after change:  (11, [222, 33], 44, 55)\n"
     ]
    }
   ],
   "source": [
    "# Modify the first item (22) of a list inside a following tuple to 222 tuple1 = (11, [22, 33], 44, 55)\n",
    "\n",
    "tuple1 = (11, [22, 33], 44, 55)\n",
    "print(\"Tuple before change: \",tuple1)\n",
    "tuple1[1][0] = 222\n",
    "print(\"\\nTuple after change: \",tuple1)"
   ]
  },
  {
   "cell_type": "code",
   "execution_count": 54,
   "metadata": {},
   "outputs": [
    {
     "name": "stdout",
     "output_type": "stream",
     "text": [
      "Data in the tuple:  ('AI', 'ML', 'DL', 'NLP')\n",
      "\n",
      "First Value:  AI\n",
      "Second Value:  ML\n",
      "Third Value:  DL\n",
      "Fourth Value:  NLP\n"
     ]
    }
   ],
   "source": [
    "# Write a Python program to unpack a tuple in several variables\n",
    "\n",
    "tupleUnpack = ('AI','ML','DL','NLP')\n",
    "print(\"Data in the tuple: \",tupleUnpack)\n",
    "varAI, varML, varDL, varNLP = tupleUnpack\n",
    "print(\"\\nFirst Value: \",varAI)\n",
    "print(\"Second Value: \",varML)\n",
    "print(\"Third Value: \",varDL)\n",
    "print(\"Fourth Value: \",varNLP)"
   ]
  },
  {
   "cell_type": "code",
   "execution_count": 68,
   "metadata": {},
   "outputs": [
    {
     "name": "stdout",
     "output_type": "stream",
     "text": [
      "New set:  {'NLP'}\n",
      "Updated set:  {'AI', 'Python', 'ML', 'DL', 'NLP'}\n"
     ]
    }
   ],
   "source": [
    "# Write a Python program to add member(s) in an empty set.\n",
    "\n",
    "newSet = set()\n",
    "newSet.add(\"NLP\")\n",
    "print(\"New set: \",newSet)\n",
    "newSet.update([\"AI\",\"ML\",\"DL\",\"Python\"])\n",
    "print(\"Updated set: \",newSet)"
   ]
  },
  {
   "cell_type": "code",
   "execution_count": 63,
   "metadata": {},
   "outputs": [
    {
     "name": "stdout",
     "output_type": "stream",
     "text": [
      "Intersection of two sets:  {'76', '17'}\n"
     ]
    }
   ],
   "source": [
    "# Write a Python program to create an intersection of sets\n",
    "\n",
    "set1 = {'17','89','30','76','23','45'}\n",
    "set2 = {'76','90','51','83','99','17'}\n",
    "print(\"Intersection of two sets: \",set1.intersection(set2))"
   ]
  },
  {
   "cell_type": "code",
   "execution_count": 65,
   "metadata": {},
   "outputs": [
    {
     "name": "stdout",
     "output_type": "stream",
     "text": [
      "Difference of two sets:  {'45', '30', '89', '23'}\n"
     ]
    }
   ],
   "source": [
    "# Write a Python program to create a symmetric difference in sets.\n",
    "\n",
    "set1 = {'17','89','30','76','23','45'}\n",
    "set2 = {'76','90','51','83','99','17'}\n",
    "print(\"Difference of two sets: \",set1.difference(set2))"
   ]
  },
  {
   "cell_type": "code",
   "execution_count": 67,
   "metadata": {},
   "outputs": [
    {
     "name": "stdout",
     "output_type": "stream",
     "text": [
      "Identical items of two sets:  {'40', '30', '50'}\n"
     ]
    }
   ],
   "source": [
    "# Return a set of identical items from a given two Python set\n",
    "# set1 = [10, 20, 30, 40, 50]\n",
    "# set2 = [30, 40, 50, 60, 70]\n",
    "\n",
    "set1 = {'10','20','30','40','50'}\n",
    "set2 = {'30','40','50','60','70'}\n",
    "print(\"Identical items of two sets: \",set1.intersection(set2))"
   ]
  },
  {
   "cell_type": "code",
   "execution_count": 87,
   "metadata": {},
   "outputs": [
    {
     "name": "stdout",
     "output_type": "stream",
     "text": [
      "Data in the set:  {40, 10, 50, 20, 30}\n",
      "Data in the set after data removal:  {40, 50}\n"
     ]
    }
   ],
   "source": [
    "# Remove 10, 20, 30 elements from a following set at once\n",
    "# set1 = {10, 20, 30, 40, 50}\n",
    "\n",
    "set1 = {10, 20, 30, 40, 50}\n",
    "print(\"Data in the set: \",set1)\n",
    "set1.difference_update({10, 20, 30})\n",
    "print(\"Data in the set after data removal: \",set1)"
   ]
  },
  {
   "cell_type": "code",
   "execution_count": 90,
   "metadata": {},
   "outputs": [
    {
     "name": "stdout",
     "output_type": "stream",
     "text": [
      "The tuple:  ('Pooja', [10, 20, 30], (25, 50, 15))\n",
      "\n",
      "The specified value:  20\n"
     ]
    }
   ],
   "source": [
    "# Access value 20 from the following tuple\n",
    "# example = (\"Pooja\", [10, 20, 30], (25, 50, 15))\n",
    "\n",
    "tuple1 = (\"Pooja\", [10, 20, 30], (25, 50, 15))\n",
    "print(\"The tuple: \",tuple1)\n",
    "newTuple = tuple1[1][1]\n",
    "print(\"\\nThe specified value: \",newTuple)"
   ]
  },
  {
   "cell_type": "code",
   "execution_count": 91,
   "metadata": {},
   "outputs": [
    {
     "name": "stdout",
     "output_type": "stream",
     "text": [
      "\n",
      "Number of occurances of 50 is  2\n"
     ]
    }
   ],
   "source": [
    "# Count the number of occurrences of item 50 from a tuple numbers = (50, 10, 60, 70, 50)\n",
    "\n",
    "tupVal = (50, 10, 60, 70, 50)\n",
    "print(\"\\nNumber of occurances of 50 is \",tupVal.count(50))"
   ]
  },
  {
   "cell_type": "code",
   "execution_count": null,
   "metadata": {},
   "outputs": [],
   "source": []
  }
 ],
 "metadata": {
  "kernelspec": {
   "display_name": "Python 3",
   "language": "python",
   "name": "python3"
  },
  "language_info": {
   "codemirror_mode": {
    "name": "ipython",
    "version": 3
   },
   "file_extension": ".py",
   "mimetype": "text/x-python",
   "name": "python",
   "nbconvert_exporter": "python",
   "pygments_lexer": "ipython3",
   "version": "3.8.3"
  }
 },
 "nbformat": 4,
 "nbformat_minor": 4
}
