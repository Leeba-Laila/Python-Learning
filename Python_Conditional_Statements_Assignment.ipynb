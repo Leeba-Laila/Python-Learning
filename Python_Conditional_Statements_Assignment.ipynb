{
 "cells": [
  {
   "cell_type": "markdown",
   "metadata": {},
   "source": [
    "# Python Conditional Statements Assignment"
   ]
  },
  {
   "cell_type": "code",
   "execution_count": 15,
   "metadata": {},
   "outputs": [
    {
     "name": "stdout",
     "output_type": "stream",
     "text": [
      "Enter the first number: 75\n",
      "Enter the second number: 111\n",
      "\n",
      "The second number, 111 is greater.\n"
     ]
    }
   ],
   "source": [
    "# 1. Take two integer values from the user and print greatest among them.\n",
    "\n",
    "fnum = int(input(\"Enter the first number: \"))\n",
    "snum = int(input(\"Enter the second number: \"))\n",
    "if(fnum > snum):\n",
    "    print(\"\\nThe first number, {} is greater.\".format(fnum))\n",
    "else:\n",
    "    print(\"\\nThe second number, {} is greater.\".format(snum))"
   ]
  },
  {
   "cell_type": "code",
   "execution_count": 24,
   "metadata": {},
   "outputs": [
    {
     "name": "stdout",
     "output_type": "stream",
     "text": [
      "Enter a number: 89\n",
      "\n",
      "89 is an odd number.\n"
     ]
    }
   ],
   "source": [
    "# 2. Write a program that reads an integer from the user. Then your program should display a message indicating\n",
    "# whether the integer is even or odd.\n",
    "\n",
    "num = int(input(\"Enter a number: \"))\n",
    "if( num == 0):\n",
    "    print(\"\\n{} is neither even nor odd.\".format(num))\n",
    "else:\n",
    "    if((num % 2) == 0):\n",
    "        print(\"\\n{} is an even number.\".format(num))\n",
    "    else:\n",
    "        print(\"\\n{} is an odd number.\".format(num))"
   ]
  },
  {
   "cell_type": "code",
   "execution_count": 32,
   "metadata": {},
   "outputs": [
    {
     "name": "stdout",
     "output_type": "stream",
     "text": [
      "Enter an alphabet: Y\n",
      "\n",
      "Y is sometimes used as a vowel and sometimes used as a consonant.\n"
     ]
    }
   ],
   "source": [
    "# 3. Create a program that reads a letter of the alphabet from the user. If the user enters a, e, i, o or u then your program\n",
    "# should display a message indicating that the entered letter is a vowel. If the user enters y then your program should\n",
    "# display a message indicating that sometimes y is a vowel, and sometimes y is a consonant. Otherwise your program\n",
    "# should display a message indicating that the letter is a consonant.\n",
    "\n",
    "char = input(\"Enter an alphabet: \")\n",
    "if((char == 'a') | (char == 'e') | (char == 'i') | (char == 'o') | (char == 'u') | (char == 'A') | (char == 'E') | (char == 'I') | (char == 'O') | (char == 'U')):\n",
    "    print(\"\\n{} is a vowel.\".format(char))\n",
    "elif((char == 'y') | (char == 'Y')):\n",
    "    print(\"\\n{} is sometimes used as a vowel and sometimes used as a consonant.\".format(char))\n",
    "else:\n",
    "    print(\"\\n{} is a consonant.\".format(char))"
   ]
  },
  {
   "cell_type": "code",
   "execution_count": 37,
   "metadata": {},
   "outputs": [
    {
     "name": "stdout",
     "output_type": "stream",
     "text": [
      "Enter the length of the first side: 89.1\n",
      "Enter the length of the second side: 42.6\n",
      "Enter the length of the third side: 89.1\n",
      "\n",
      "The triangle is an Isosceles Triangle.\n"
     ]
    }
   ],
   "source": [
    "# 4. A triangle can be classified based on the lengths of its sides as equilateral, isosceles or scalene. All three sides of an\n",
    "# equilateral triangle have the same length. An isosceles triangle has two sides that are the same length, and a third\n",
    "# side that is a different length. If all of the sides have different lengths then the triangle is scalene. Write a program that\n",
    "# reads the lengths of the three sides of a triangle from the user. Then display a message that states the triangle’s type.\n",
    "\n",
    "fSide = float(input(\"Enter the length of the first side: \"))\n",
    "sSide = float(input(\"Enter the length of the second side: \"))\n",
    "tSide = float(input(\"Enter the length of the third side: \"))\n",
    "if((fSide == sSide) & (fSide == tSide)):\n",
    "    print(\"\\nThe triangle is an Equilateral Triangle.\")\n",
    "elif((fSide == sSide) | (fSide == tSide)):\n",
    "    print(\"\\nThe triangle is an Isosceles Triangle.\")\n",
    "else:\n",
    "    print(\"\\nThe triangle is a Scalene Triangle.\")"
   ]
  },
  {
   "cell_type": "code",
   "execution_count": 52,
   "metadata": {},
   "outputs": [
    {
     "name": "stdout",
     "output_type": "stream",
     "text": [
      "Enter the number of sides: 9\n",
      "\n",
      "The Shape is Nonagon\n"
     ]
    }
   ],
   "source": [
    "# 5. Write a program that determines the name of a shape from its number of sides. Read the number of sides from the\n",
    "# user and then report the appropriate name as part of a meaningful message. Your program should support shapes\n",
    "# with anywhere from 3 up to (and including) 10 sides. If a number of sides outside of this range is entered then your\n",
    "# program should display an appropriate error message.\n",
    "\n",
    "numSide = int(input(\"Enter the number of sides: \"))\n",
    "if(numSide == 3):\n",
    "    print(\"\\nThe Shape is Triangle\")\n",
    "elif(numSide == 4):\n",
    "    print(\"\\nThe Shape is Square\")\n",
    "elif(numSide == 5):\n",
    "    print(\"\\nThe Shape is Pentagon\")\n",
    "elif(numSide == 6):\n",
    "    print(\"\\nThe Shape is Hexagon\")\n",
    "elif(numSide == 7):\n",
    "    print(\"\\nThe Shape is Heptagon\")\n",
    "elif(numSide == 8):\n",
    "    print(\"\\nThe Shape is Octagon\")\n",
    "elif(numSide == 9):\n",
    "    print(\"\\nThe Shape is Nonagon\")\n",
    "elif(numSide == 10):\n",
    "    print(\"\\nThe Shape is Decagon\")\n",
    "else:\n",
    "    print(\"\\nInvalid Entry.\")"
   ]
  },
  {
   "cell_type": "code",
   "execution_count": 58,
   "metadata": {},
   "outputs": [
    {
     "name": "stdout",
     "output_type": "stream",
     "text": [
      "Enter the number of quantity the item is purchased: 11\n",
      "\n",
      "Eligible for 10% discount. \n",
      "Previous Total: 1100 \n",
      "Discounted Total: 990.0\n"
     ]
    }
   ],
   "source": [
    "# 6. A shop will give a discount of 10% if the cost of the purchased quantity is more than 1000. Ask the user for\n",
    "# quantity, suppose, one unit will cost 100. Judge and print total cost for user.\n",
    "\n",
    "oneUnitCost = 100\n",
    "quantity = int(input(\"Enter the number of quantity the item is purchased: \"))\n",
    "totalCost = oneUnitCost * quantity\n",
    "if(totalCost > 1000):\n",
    "    discountCost = totalCost - (totalCost / 10)\n",
    "    print(\"\\nEligible for 10% discount. \\nPrevious Total: {} \\nDiscounted Total: {}\".format(totalCost,discountCost))\n",
    "else:\n",
    "    print(\"\\nTotal cost is {}. \\nNot Eligible for discount.\\nTotal amount should be more than 1000 to get a discount\".format(totalCost))"
   ]
  },
  {
   "cell_type": "code",
   "execution_count": 66,
   "metadata": {},
   "outputs": [
    {
     "name": "stdout",
     "output_type": "stream",
     "text": [
      "Enter the age of the first person: 5\n",
      "Enter the age of the second person: 36\n",
      "Enter the age of the third person: 33\n",
      "\n",
      "The second person with age, 36 is oldest\n",
      "\n",
      "The first person with age, 5 is youngest\n"
     ]
    }
   ],
   "source": [
    "# 7. Take input of age of 3 people by user and determine oldest and youngest among them.\n",
    "\n",
    "fAge = int(input(\"Enter the age of the first person: \"))\n",
    "sAge = int(input(\"Enter the age of the second person: \"))\n",
    "tAge = int(input(\"Enter the age of the third person: \"))\n",
    "if((fAge > sAge) & (fAge > tAge)):\n",
    "    print(\"\\nThe first person with age, {} is oldest\".format(fAge))\n",
    "    if(sAge > tAge):\n",
    "        print(\"\\nThe third person with age, {} is youngest\".format(tAge))\n",
    "    else:\n",
    "        print(\"\\nThe second person with age, {} is youngest\".format(sAge))\n",
    "elif((sAge > fAge) & (sAge > tAge)):\n",
    "    print(\"\\nThe second person with age, {} is oldest\".format(sAge))\n",
    "    if(fAge > tAge):\n",
    "        print(\"\\nThe third person with age, {} is youngest\".format(tAge))\n",
    "    else:\n",
    "        print(\"\\nThe first person with age, {} is youngest\".format(fAge))\n",
    "elif((tAge > fAge) & (tAge > sAge)):\n",
    "    print(\"\\nThe third person with age, {} is oldest\".format(tAge))\n",
    "    if(fAge > sAge):\n",
    "        print(\"\\nThe second person with age, {} is youngest\".format(sAge))\n",
    "    else:\n",
    "        print(\"\\nThe first person with age, {} is youngest\".format(fAge))"
   ]
  },
  {
   "cell_type": "code",
   "execution_count": 71,
   "metadata": {},
   "outputs": [
    {
     "name": "stdout",
     "output_type": "stream",
     "text": [
      "Enter the salary: 5000\n",
      "Enter the years of experience: 6\n",
      "\n",
      "Eligible for 5% bonus. \n",
      "Salary: 5000.0 \n",
      "Bonus: 250.0 \n",
      "Net Salary: 5250.0\n"
     ]
    }
   ],
   "source": [
    "# 8. A company decided to give a bonus of 5% to an employee if his/her year of service is more than 5 years. Ask user for\n",
    "# their salary and year of service and print the net bonus amount\n",
    "\n",
    "salary = float(input(\"Enter the salary: \"))\n",
    "years = float(input(\"Enter the years of experience: \"))\n",
    "if(years > 5):\n",
    "    bonus = salary * (5 / 100)\n",
    "    netSalary = salary + bonus\n",
    "    print(\"\\nEligible for 5% bonus. \\nSalary: {} \\nBonus: {} \\nNet Salary: {}\".format(salary, bonus, netSalary))\n",
    "else:\n",
    "    print(\"\\nTotal years is less than 5 years. \\nNot Eligible for bonus.\")"
   ]
  },
  {
   "cell_type": "code",
   "execution_count": 13,
   "metadata": {},
   "outputs": [
    {
     "name": "stdout",
     "output_type": "stream",
     "text": [
      "Enter the year: 2020\n",
      "\n",
      "2020 is a Leap Year\n"
     ]
    }
   ],
   "source": [
    "# 9. Write a program to check if a year is leap year or not. If a year is divisible by 4 then it is leap year but if the year is\n",
    "# a century year like 2000, 1900, 2100 then it must be divisible by 400.\n",
    "\n",
    "year = int(input(\"Enter the year: \"))\n",
    "if ((((year % 4) == 0) and ((year % 100) != 0)) or ((year % 400) == 0)):\n",
    "    print(\"\\n{} is a Leap Year\".format(year))\n",
    "else:\n",
    "    print(\"\\n{} is not a Leap Year\".format(year))"
   ]
  },
  {
   "cell_type": "code",
   "execution_count": 79,
   "metadata": {},
   "outputs": [
    {
     "name": "stdout",
     "output_type": "stream",
     "text": [
      "Enter the number on the first dice: 5\n",
      "Enter the number on the second dice: 6\n",
      "\n",
      "You are a Winner\n"
     ]
    }
   ],
   "source": [
    "# 10. Accept d1 and d2 as input. First, check to see that they are in the proper range for dice. If not, print a message.\n",
    "# Otherwise, determine the outcome if this is the come out roll. If the sum is 7 or 11, print the winner. If the sum is 2, 3 or\n",
    "# 12, print loser. Otherwise print the point.\n",
    "\n",
    "d1 = int(input(\"Enter the number on the first dice: \"))\n",
    "d2 = int(input(\"Enter the number on the second dice: \"))\n",
    "tot = d1 + d2\n",
    "if((tot == 7) | (tot == 11)):\n",
    "    print(\"\\nYou are a Winner\")\n",
    "elif((tot == 2) | (tot == 3) | (tot == 12)):\n",
    "    print(\"\\nYou are a Loser\")\n",
    "else:\n",
    "    print(\"\\nSum of the numbers on the dice is {}. You are neither Winner nor Loser.\".format(tot))"
   ]
  },
  {
   "cell_type": "code",
   "execution_count": 3,
   "metadata": {},
   "outputs": [
    {
     "name": "stdout",
     "output_type": "stream",
     "text": [
      "Enter a month: February\n",
      "\n",
      "Number of days in February is 28. \n",
      "If Leap year, then number of days will be 29.\n"
     ]
    }
   ],
   "source": [
    "# 11. Write a python program to display the number of days in a month name from the given list of months or month\n",
    "# number entered by user.\n",
    "\n",
    "month = input(\"Enter a month: \")\n",
    "monthLower = month.lower()\n",
    "if monthLower in ['january', 'march', 'may', 'july', 'august', 'october', 'december']:\n",
    "    print(\"\\nNumber of days in {} is 31\".format(month))\n",
    "elif monthLower in ['april', 'june', 'september', 'november']:\n",
    "    print(\"\\nNumber of days in {} is 30\".format(month))\n",
    "elif monthLower in ['february']:\n",
    "    print(\"\\nNumber of days in {} is 28. \\nIf Leap year, then number of days will be 29.\".format(month))\n",
    "else:\n",
    "    print(\"\\nInvalid month entry\")"
   ]
  },
  {
   "cell_type": "code",
   "execution_count": 14,
   "metadata": {},
   "outputs": [
    {
     "name": "stdout",
     "output_type": "stream",
     "text": [
      "Enter any date ranging from 1 - 31: 31\n",
      "Enter any number ranging from 1 - 12 corresponding to the month: 12\n",
      "Enter the year: 2020\n",
      "\n",
      "The next day is  1 / 1 / 2021\n"
     ]
    }
   ],
   "source": [
    "# 12. Write a Python program to get next day of a given date.\n",
    "\n",
    "date = int(input(\"Enter any date ranging from 1 - 31: \"))\n",
    "month = int(input(\"Enter any number ranging from 1 - 12 corresponding to the month: \"))\n",
    "year = int(input(\"Enter the year: \"))\n",
    "if ((((year % 4) == 0) and ((year % 100) != 0)) or ((year % 400) == 0)):\n",
    "    if(month == 2):\n",
    "        newDate = 29\n",
    "    elif month in (1, 3, 5, 7, 8, 10, 12):\n",
    "        newDate = 31\n",
    "    else :\n",
    "        newDate = 30\n",
    "else:\n",
    "    if(month == 2):\n",
    "        newDate = 28\n",
    "    elif month in (1, 3, 5, 7, 8, 10, 12):\n",
    "        newDate = 31\n",
    "    else :\n",
    "        newDate = 30      \n",
    "if(date == 31 and month == 12):\n",
    "    date = 1\n",
    "    month = 1\n",
    "    year = year + 1   \n",
    "elif((newDate - date) == 0):\n",
    "    month = month + 1\n",
    "    date = 1\n",
    "else:\n",
    "    date = date + 1\n",
    "print(\"\\nThe next day is \", date, \"/\", month, \"/\", year)"
   ]
  },
  {
   "cell_type": "code",
   "execution_count": null,
   "metadata": {},
   "outputs": [],
   "source": []
  }
 ],
 "metadata": {
  "kernelspec": {
   "display_name": "Python 3",
   "language": "python",
   "name": "python3"
  },
  "language_info": {
   "codemirror_mode": {
    "name": "ipython",
    "version": 3
   },
   "file_extension": ".py",
   "mimetype": "text/x-python",
   "name": "python",
   "nbconvert_exporter": "python",
   "pygments_lexer": "ipython3",
   "version": "3.8.3"
  }
 },
 "nbformat": 4,
 "nbformat_minor": 4
}
