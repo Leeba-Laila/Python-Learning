{
 "cells": [
  {
   "cell_type": "markdown",
   "metadata": {},
   "source": [
    "# NumPy Assignment"
   ]
  },
  {
   "cell_type": "code",
   "execution_count": 1,
   "metadata": {},
   "outputs": [],
   "source": [
    "import numpy as np"
   ]
  },
  {
   "cell_type": "code",
   "execution_count": 2,
   "metadata": {},
   "outputs": [
    {
     "name": "stdout",
     "output_type": "stream",
     "text": [
      "Integer array:-\n",
      " [[100 110]\n",
      " [120 130]\n",
      " [140 150]\n",
      " [160 170]\n",
      " [180 190]]\n"
     ]
    }
   ],
   "source": [
    "# 1. Create a 5X2 integer array from a range between 100 to 200 such that the difference between each element is 10\n",
    "intArr = np.arange(100,200,10)\n",
    "intArr = intArr.reshape(5,2)\n",
    "print(\"Integer array:-\\n\",intArr)"
   ]
  },
  {
   "cell_type": "code",
   "execution_count": 3,
   "metadata": {},
   "outputs": [
    {
     "name": "stdout",
     "output_type": "stream",
     "text": [
      "3x3x3 array with arbitrary values:-\n",
      "\n",
      " [[[0.82405545 0.40575495 0.92048298]\n",
      "  [0.66969597 0.53290651 0.87414202]\n",
      "  [0.6965636  0.57060216 0.84834688]]\n",
      "\n",
      " [[0.1544895  0.9940541  0.47263727]\n",
      "  [0.43668085 0.8902515  0.49938043]\n",
      "  [0.44004335 0.21580356 0.48245227]]\n",
      "\n",
      " [[0.59192875 0.79665569 0.7800534 ]\n",
      "  [0.86846257 0.99113359 0.91901164]\n",
      "  [0.18089987 0.43886664 0.40551119]]]\n",
      "\n",
      "Minimum value in the array is  0.1544895031239687\n",
      "\n",
      "Maximum value in the array is  0.9940541032710046\n"
     ]
    }
   ],
   "source": [
    "# 2. Write a NumPy program to create a 3x3x3 array filled with arbitrary values and find the minimum and maximum values.\n",
    "\n",
    "arbArr = np.random.random((3,3,3))\n",
    "print(\"3x3x3 array with arbitrary values:-\\n\\n\",arbArr)\n",
    "print(\"\\nMinimum value in the array is \",arbArr.min())\n",
    "print(\"\\nMaximum value in the array is \",arbArr.max())"
   ]
  },
  {
   "cell_type": "code",
   "execution_count": 4,
   "metadata": {},
   "outputs": [
    {
     "name": "stdout",
     "output_type": "stream",
     "text": [
      "The zero matrix with diagonal elements as 1, 2, 3, 4, 5 is:-\n",
      "\n",
      " [[1 0 0 0 0]\n",
      " [0 2 0 0 0]\n",
      " [0 0 3 0 0]\n",
      " [0 0 0 4 0]\n",
      " [0 0 0 0 5]]\n"
     ]
    }
   ],
   "source": [
    "# 3. Write a NumPy program to create a 5x5 zero matrix with elements on the main diagonal equal to 1, 2, 3, 4, 5.\n",
    "\n",
    "diagArr = np.diag([1,2,3,4,5])\n",
    "print(\"The zero matrix with diagonal elements as 1, 2, 3, 4, 5 is:-\\n\\n\", diagArr)"
   ]
  },
  {
   "cell_type": "code",
   "execution_count": 5,
   "metadata": {},
   "outputs": [
    {
     "name": "stdout",
     "output_type": "stream",
     "text": [
      "Initial array:-\n",
      "\n",
      " [0 1 2 3 4 5 6 7 8 9]\n",
      "\n",
      "Odd numbers in the array are:\n",
      "\n",
      "1\n",
      "3\n",
      "5\n",
      "7\n",
      "9\n",
      "\n",
      "New array after replacing odd numbers with -1:-\n",
      "\n",
      " [ 0 -1  2 -1  4 -1  6 -1  8 -1]\n"
     ]
    }
   ],
   "source": [
    "# 4. Given an array, arr = np.array([0, 1, 2, 3, 4, 5, 6, 7, 8, 9])\n",
    "# i) Extract all odd numbers from arr\n",
    "# ii) Replace all odd numbers in arr with -1\n",
    "\n",
    "arr = np.array([0, 1, 2, 3, 4, 5, 6, 7, 8, 9])\n",
    "print(\"Initial array:-\\n\\n\",arr)\n",
    "print(\"\\nOdd numbers in the array are:\\n\")\n",
    "for i in arr:\n",
    "    if(i%2 == 1):\n",
    "        print(i)\n",
    "        arr[i] = -1\n",
    "print(\"\\nNew array after replacing odd numbers with -1:-\\n\\n\",arr)"
   ]
  },
  {
   "cell_type": "code",
   "execution_count": 6,
   "metadata": {},
   "outputs": [
    {
     "name": "stdout",
     "output_type": "stream",
     "text": [
      "3x3 identity matrix with 1 as diagonal elements:-\n",
      " [[1. 0. 0.]\n",
      " [0. 1. 0.]\n",
      " [0. 0. 1.]]\n"
     ]
    }
   ],
   "source": [
    "# 5.Write a NumPy program to create a 3x3 identity matrix, i.e. diagonal elements are 1,the rest are 0.\n",
    "\n",
    "eyeArr = np.eye(3,3)\n",
    "print(\"3x3 identity matrix with 1 as diagonal elements:-\\n\",eyeArr)"
   ]
  },
  {
   "cell_type": "code",
   "execution_count": 7,
   "metadata": {},
   "outputs": [
    {
     "name": "stdout",
     "output_type": "stream",
     "text": [
      "Integer array:-\n",
      " [[9 7 0]\n",
      " [7 6 6]]\n",
      "\n",
      "Array after converting to float:-\n",
      " [[9. 7. 0.]\n",
      " [7. 6. 6.]]\n"
     ]
    }
   ],
   "source": [
    "# 6. Write a NumPy program to convert an array to a float type.\n",
    "\n",
    "convArr = np.random.randint(0,10,(2,3))\n",
    "print(\"Integer array:-\\n\",convArr)\n",
    "print(\"\\nArray after converting to float:-\\n\",convArr.astype(np.float))"
   ]
  },
  {
   "cell_type": "code",
   "execution_count": 8,
   "metadata": {},
   "outputs": [
    {
     "name": "stdout",
     "output_type": "stream",
     "text": [
      "Five random numbers from the normal distribution:-\n",
      " [ -1.78269392   4.21740221   6.67648344   9.55793188 -11.18990251]\n"
     ]
    }
   ],
   "source": [
    "# 7. Write a NumPy program to generate five random numbers from the normal distribution.\n",
    "\n",
    "randArr = np.random.normal(1,10,5)\n",
    "print(\"Five random numbers from the normal distribution:-\\n\", randArr)"
   ]
  },
  {
   "cell_type": "code",
   "execution_count": 9,
   "metadata": {},
   "outputs": [
    {
     "name": "stdout",
     "output_type": "stream",
     "text": [
      "Initial Array:-\n",
      " [[34 43 73]\n",
      " [82 22 12]\n",
      " [53 94 66]]\n",
      "\n",
      "Array after changing the 2nd column:-\n",
      " [[34 10 73]\n",
      " [82 10 12]\n",
      " [53 10 66]]\n"
     ]
    }
   ],
   "source": [
    "# 8. Following is the input NumPy array delete column two and insert following new column in its place.\n",
    "# sampleArray = numpy.array([[34,43,73],[82,22,12],[53,94,66]])\n",
    "# newColumn = numpy.array([[10,10,10]])\n",
    "sampleArray = np.array([[34,43,73],[82,22,12],[53,94,66]])\n",
    "newColumn = np.array([[10,10,10]])\n",
    "print(\"Initial Array:-\\n\",sampleArray)\n",
    "sampleArray[:,1] = newColumn\n",
    "print(\"\\nArray after changing the 2nd column:-\\n\",sampleArray)"
   ]
  },
  {
   "cell_type": "code",
   "execution_count": 10,
   "metadata": {},
   "outputs": [
    {
     "name": "stdout",
     "output_type": "stream",
     "text": [
      "Matrix 1:\n",
      " [[1 2 3]\n",
      " [1 3 5]]\n",
      "\n",
      "Matrix 2:\n",
      " [[4 5 6]\n",
      " [3 8 2]]\n",
      "\n",
      "\n",
      "Product of the two matrices, Matrix 3:\n",
      " [[ 4 10 18]\n",
      " [ 3 24 10]]\n"
     ]
    }
   ],
   "source": [
    "# 9. Write a NumPy program to compute the multiplication of two given matrices.\n",
    "\n",
    "# Method 1\n",
    "matrix1 = np.array(([1,2,3],[1,3,5]))\n",
    "matrix2 = np.array(([4,5,6],[3,8,2]))\n",
    "print('Matrix 1:\\n',matrix1)\n",
    "print('\\nMatrix 2:\\n',matrix2)\n",
    "matrix3 = matrix1 * matrix2\n",
    "print('\\n\\nProduct of the two matrices, Matrix 3:\\n',matrix3)"
   ]
  },
  {
   "cell_type": "code",
   "execution_count": 11,
   "metadata": {},
   "outputs": [
    {
     "name": "stdout",
     "output_type": "stream",
     "text": [
      "Matrix 1:\n",
      " [[1 2 3]\n",
      " [1 3 5]]\n",
      "\n",
      "Matrix 2:\n",
      " [[4 5 6]\n",
      " [3 8 2]]\n",
      "\n",
      "\n",
      "Product of the two matrices, Matrix 3:\n",
      " [[ 4 10 18]\n",
      " [ 3 24 10]]\n"
     ]
    }
   ],
   "source": [
    "# Method 2\n",
    "\n",
    "matrix1 = np.array(([1,2,3],[1,3,5]))\n",
    "matrix2 = np.array(([4,5,6],[3,8,2]))\n",
    "print('Matrix 1:\\n',matrix1)\n",
    "print('\\nMatrix 2:\\n',matrix2)\n",
    "matrix3 = np.multiply(matrix1,matrix2)\n",
    "print('\\n\\nProduct of the two matrices, Matrix 3:\\n',matrix3)"
   ]
  },
  {
   "cell_type": "code",
   "execution_count": 12,
   "metadata": {},
   "outputs": [
    {
     "name": "stdout",
     "output_type": "stream",
     "text": [
      "Random vector values are:-\n",
      " [0.68735085 0.88948755 0.64793927 0.14827097 0.53492146 0.74356372\n",
      " 0.77353994 0.95166688 0.32368796 0.99846595]\n",
      "\n",
      "\n",
      "Sorted random vector values are:-\n",
      " [0.14827097 0.32368796 0.53492146 0.64793927 0.68735085 0.74356372\n",
      " 0.77353994 0.88948755 0.95166688 0.99846595]\n"
     ]
    }
   ],
   "source": [
    "# 10. Write a NumPy program to create a random vector of size 10 and sort it.\n",
    "\n",
    "randVect = np.random.random(10)\n",
    "print(\"Random vector values are:-\\n\", randVect)\n",
    "randVect.sort()\n",
    "print(\"\\n\\nSorted random vector values are:-\\n\", randVect)"
   ]
  },
  {
   "cell_type": "code",
   "execution_count": 13,
   "metadata": {},
   "outputs": [
    {
     "name": "stdout",
     "output_type": "stream",
     "text": [
      "Matrix 1:\n",
      " [[1 2 3]\n",
      " [1 3 5]]\n",
      "\n",
      "Matrix 2:\n",
      " [[4 5 6]\n",
      " [3 8 2]]\n",
      "\n",
      "\n",
      "Covariance of the two matrices:\n",
      " [[ 1.          2.          1.         -0.5       ]\n",
      " [ 2.          4.          2.         -1.        ]\n",
      " [ 1.          2.          1.         -0.5       ]\n",
      " [-0.5        -1.         -0.5        10.33333333]]\n"
     ]
    }
   ],
   "source": [
    "# 11. Write a NumPy program to compute the covariance matrix of two arrays.\n",
    "\n",
    "arr1 = np.array(([1,2,3],[1,3,5]))\n",
    "arr2 = np.array(([4,5,6],[3,8,2]))\n",
    "print('Matrix 1:\\n',arr1)\n",
    "print('\\nMatrix 2:\\n',arr2)\n",
    "covArr = np.cov(arr1,arr2)\n",
    "print('\\n\\nCovariance of the two matrices:\\n',covArr)"
   ]
  },
  {
   "cell_type": "code",
   "execution_count": 14,
   "metadata": {},
   "outputs": [
    {
     "name": "stdout",
     "output_type": "stream",
     "text": [
      "Shape of the array is  (4, 2)\n",
      "Dimension of the array is  2\n",
      "Length of each element in bytes is  8\n"
     ]
    }
   ],
   "source": [
    "# 12.Create a 4X2 integer array and Prints its :\n",
    "# i) The shape of an array.\n",
    "# ii) Array dimensions.\n",
    "# iii) The Length of each element of the array in bytes\n",
    "\n",
    "intArr = np.random.random((4,2))\n",
    "print(\"Shape of the array is \",intArr.shape)\n",
    "print(\"Dimension of the array is \",intArr.ndim)\n",
    "print(\"Length of each element in bytes is \",intArr.itemsize)"
   ]
  },
  {
   "cell_type": "code",
   "execution_count": 15,
   "metadata": {},
   "outputs": [
    {
     "name": "stdout",
     "output_type": "stream",
     "text": [
      "Arrays before concatenation\n",
      " ['Leeba' 'Laila'] \n",
      " ['Mohamed' 'Basheer']\n",
      "\n",
      "\n",
      "Array after the concatenation ['LeebaMohamed' 'LailaBasheer']\n"
     ]
    }
   ],
   "source": [
    "# 13. Write a NumPy program to concatenate element-wise two arrays of string.\n",
    "\n",
    "arrNm1 = np.array(['Leeba','Laila'])\n",
    "arrNm2 = np.array(['Mohamed','Basheer'])\n",
    "print(\"Arrays before concatenation\\n\",arrNm1,\"\\n\",arrNm2)\n",
    "concatArr = np.char.add(arrNm1,arrNm2)\n",
    "print(\"\\n\\nArray after the concatenation\",concatArr)"
   ]
  },
  {
   "cell_type": "code",
   "execution_count": 19,
   "metadata": {},
   "outputs": [
    {
     "name": "stdout",
     "output_type": "stream",
     "text": [
      "Initial array:-\n",
      " ['LeeBa' 'laiLa' 'UMer']\n",
      "\n",
      "\n",
      "Array after applying capitalize():-\n",
      " ['Leeba' 'Laila' 'Umer']\n",
      "\n",
      "\n",
      "Array after applying lower():-\n",
      " ['leeba' 'laila' 'umer']\n",
      "\n",
      "\n",
      "Array after applying upper():-\n",
      " ['LEEBA' 'LAILA' 'UMER']\n",
      "\n",
      "\n",
      "Array after applying swapcase():-\n",
      " ['lEEbA' 'LAIlA' 'umER']\n",
      "\n",
      "\n",
      "Array after applying title():-\n",
      " ['Leeba' 'Laila' 'Umer']\n"
     ]
    }
   ],
   "source": [
    "# 14. Write a NumPy program to capitalize the first letter, lowercase, uppercase, swapcase, title-case of all the \n",
    "# elements of a given array.\n",
    "\n",
    "charArr = np.array(['LeeBa', 'laiLa', 'UMer'])\n",
    "print(\"Initial array:-\\n\", charArr)\n",
    "print(\"\\n\\nArray after applying capitalize():-\\n\", np.char.capitalize(charArr))\n",
    "print(\"\\n\\nArray after applying lower():-\\n\", np.char.lower(charArr))\n",
    "print(\"\\n\\nArray after applying upper():-\\n\", np.char.upper(charArr))\n",
    "print(\"\\n\\nArray after applying swapcase():-\\n\", np.char.swapcase(charArr))\n",
    "print(\"\\n\\nArray after applying title():-\\n\", np.char.title(charArr))"
   ]
  },
  {
   "cell_type": "code",
   "execution_count": 22,
   "metadata": {},
   "outputs": [
    {
     "name": "stdout",
     "output_type": "stream",
     "text": [
      "Datatype before type conversion:  <class 'numpy.ndarray'>\n",
      "\n",
      "Datatype after type conversion:  <class 'list'>\n"
     ]
    }
   ],
   "source": [
    "# 15. Write a NumPy program to convert a given array into a list.\n",
    "\n",
    "listArr = np.array(['AI', 'ML', 'DL', 'NLP', 'CV'])\n",
    "print(\"Datatype before type conversion: \",type(listArr))\n",
    "newListArr = list(listArr)\n",
    "print(\"\\nDatatype after type conversion: \",type(newListArr))"
   ]
  },
  {
   "cell_type": "code",
   "execution_count": 23,
   "metadata": {},
   "outputs": [
    {
     "name": "stdout",
     "output_type": "stream",
     "text": [
      "Initial array:-\n",
      " [[3 3 7]\n",
      " [2 2 2]\n",
      " [5 4 6]]\n",
      "\n",
      "\n",
      "Sum of all elements in the array:  34\n",
      "\n",
      "\n",
      "Sum of all column elements in the array:  [10  9 15]\n",
      "\n",
      "\n",
      "Sum of all row elements in the array:  [13  6 15]\n"
     ]
    }
   ],
   "source": [
    "# 16. Write a NumPy program to compute the sum of all elements, sum of each column and sum of each row of a given array.\n",
    "\n",
    "# Method 1\n",
    "\n",
    "sumArr = np.array([[3,3,7],[2,2,2],[5,4,6]])\n",
    "print(\"Initial array:-\\n\", sumArr)\n",
    "print(\"\\n\\nSum of all elements in the array: \", np.sum(sumArr))\n",
    "print(\"\\n\\nSum of all column elements in the array: \", np.sum(sumArr, axis = 0))\n",
    "print(\"\\n\\nSum of all row elements in the array: \", np.sum(sumArr, axis = 1))"
   ]
  },
  {
   "cell_type": "code",
   "execution_count": 25,
   "metadata": {},
   "outputs": [
    {
     "name": "stdout",
     "output_type": "stream",
     "text": [
      "Initial array\n",
      " [[3 3 7]\n",
      " [2 2 2]\n",
      " [5 4 6]]\n",
      "\n",
      "Sum of all elements 34\n",
      "\n",
      "Sum of elements in column 1:  10\n",
      "\n",
      "Sum of elements in column 2:  9\n",
      "\n",
      "Sum of elements in column 3:  15\n",
      "\n",
      "Sum of elements in row 1:  13\n",
      "\n",
      "Sum of elements in row 2:  6\n",
      "\n",
      "Sum of elements in row 3:  15\n"
     ]
    }
   ],
   "source": [
    "# Method 2\n",
    "\n",
    "print(\"Initial array\\n\",sumArr)\n",
    "print(\"\\nSum of all elements\",np.sum(sumArr))\n",
    "print(\"\\nSum of elements in column 1: \",np.sum(sumArr[:,0]))\n",
    "print(\"\\nSum of elements in column 2: \",np.sum(sumArr[:,1]))\n",
    "print(\"\\nSum of elements in column 3: \",np.sum(sumArr[:,2]))\n",
    "print(\"\\nSum of elements in row 1: \",np.sum(sumArr[0,:]))\n",
    "print(\"\\nSum of elements in row 2: \",np.sum(sumArr[1,:]))\n",
    "print(\"\\nSum of elements in row 3: \",np.sum(sumArr[2,:]))"
   ]
  },
  {
   "cell_type": "code",
   "execution_count": 32,
   "metadata": {},
   "outputs": [
    {
     "name": "stdout",
     "output_type": "stream",
     "text": [
      "10x4 Random array:-\n",
      "\n",
      " [[0.48961193 0.66224381 0.89246389 0.64053607]\n",
      " [0.78776028 0.8052944  0.80038466 0.6848905 ]\n",
      " [0.1090448  0.8820931  0.19122114 0.06209169]\n",
      " [0.89080675 0.76947843 0.52117819 0.3026521 ]\n",
      " [0.69642219 0.53287247 0.11495661 0.93909968]\n",
      " [0.34220983 0.48867441 0.04657498 0.8807319 ]\n",
      " [0.07128389 0.49510246 0.38001291 0.08737501]\n",
      " [0.7024428  0.45050023 0.74860284 0.52366221]\n",
      " [0.1406233  0.68481845 0.5669359  0.64884562]\n",
      " [0.07538538 0.05798774 0.94023867 0.88550436]]\n",
      "\n",
      "\n",
      "First five rows from the random array:-\n",
      "\n",
      " [[0.48961193 0.66224381 0.89246389 0.64053607]\n",
      " [0.78776028 0.8052944  0.80038466 0.6848905 ]\n",
      " [0.1090448  0.8820931  0.19122114 0.06209169]\n",
      " [0.89080675 0.76947843 0.52117819 0.3026521 ]\n",
      " [0.69642219 0.53287247 0.11495661 0.93909968]]\n"
     ]
    }
   ],
   "source": [
    "# 17. Write a NumPy program to create a random 10x4 array and extract the first five rows of the array and store\n",
    "# them into a variable.\n",
    "\n",
    "tenRowArr = np.random.rand(10,4)\n",
    "print(\"10x4 Random array:-\\n\\n\", tenRowArr)\n",
    "fiveRowArr = tenRowArr[:5]\n",
    "print(\"\\n\\nFirst five rows from the random array:-\\n\\n\", fiveRowArr)"
   ]
  },
  {
   "cell_type": "code",
   "execution_count": 36,
   "metadata": {},
   "outputs": [
    {
     "name": "stdout",
     "output_type": "stream",
     "text": [
      "1D array:  [7 0 3 0 2 4 7 1 8 1 3 5 6 9]\n",
      "\n",
      "Unique elements in the 1D array are  [0 1 2 3 4 5 6 7 8 9]\n",
      "\n",
      "\n",
      "2D array: \n",
      " [[34 43 73]\n",
      " [82 22 12]\n",
      " [73 43 22]]\n",
      "\n",
      "Unique elements in the 2D array are  [12 22 34 43 73 82]\n"
     ]
    }
   ],
   "source": [
    "# 18. Write a NumPy program to get the unique elements of a 1D and 2D array.\n",
    "\n",
    "oneDArr = np.array([7,0,3,0,2,4,7,1,8,1,3,5,6,9])\n",
    "twoDArr = np.array([[34,43,73],[82,22,12],[73,43,22]])\n",
    "print(\"1D array: \", oneDArr)\n",
    "print(\"\\nUnique elements in the 1D array are \", np.unique(oneDArr))\n",
    "print(\"\\n\\n2D array: \\n\", twoDArr)\n",
    "print(\"\\nUnique elements in the 2D array are \", np.unique(twoDArr))"
   ]
  },
  {
   "cell_type": "code",
   "execution_count": 38,
   "metadata": {},
   "outputs": [
    {
     "name": "stdout",
     "output_type": "stream",
     "text": [
      "Initial array:  [-10.    12.12  -0.2 ]\n",
      "\n",
      "Array with unique elements:  [-10.    -0.2   12.12]\n"
     ]
    }
   ],
   "source": [
    "# 19. Write a NumPy program to get the unique elements of an array.\n",
    "# arr= [ -10 12.12 -0.2]\n",
    "\n",
    "arr = np.array([ -10, 12.12, -0.2])\n",
    "print(\"Initial array: \", arr)\n",
    "print(\"\\nArray with unique elements: \", np.unique(arr))"
   ]
  },
  {
   "cell_type": "code",
   "execution_count": 44,
   "metadata": {},
   "outputs": [
    {
     "name": "stdout",
     "output_type": "stream",
     "text": [
      "Random array created:-\n",
      "\n",
      " [[0.695819   0.05428215 0.45745562]\n",
      " [0.96919031 0.23918856 0.2599421 ]\n",
      " [0.27456973 0.09968849 0.9884188 ]]\n",
      "\n",
      "Array stored in NumpyAssignmentText.txt\n",
      "\n",
      "\n",
      "Retrieved array from NumpyAssignmentText.txt:-\n",
      "\n",
      " [[0.695819   0.05428215 0.45745562]\n",
      " [0.96919031 0.23918856 0.2599421 ]\n",
      " [0.27456973 0.09968849 0.9884188 ]]\n"
     ]
    }
   ],
   "source": [
    "# 20. Write a NumPy program to save a given array to a text file and load it. You have to save and load files using \n",
    "# numpy library .\n",
    "\n",
    "fileArr = np.random.rand(3,3)\n",
    "print(\"Random array created:-\\n\\n\", fileArr)\n",
    "np.savetxt(\"NumpyAssignmentText.txt\", fileArr)\n",
    "print(\"\\nArray stored in NumpyAssignmentText.txt\")\n",
    "loadedArr = np.loadtxt(\"NumpyAssignmentText.txt\")\n",
    "print(\"\\n\\nRetrieved array from NumpyAssignmentText.txt:-\\n\\n\", loadedArr)"
   ]
  },
  {
   "cell_type": "code",
   "execution_count": null,
   "metadata": {},
   "outputs": [],
   "source": []
  }
 ],
 "metadata": {
  "kernelspec": {
   "display_name": "Python 3",
   "language": "python",
   "name": "python3"
  },
  "language_info": {
   "codemirror_mode": {
    "name": "ipython",
    "version": 3
   },
   "file_extension": ".py",
   "mimetype": "text/x-python",
   "name": "python",
   "nbconvert_exporter": "python",
   "pygments_lexer": "ipython3",
   "version": "3.8.3"
  }
 },
 "nbformat": 4,
 "nbformat_minor": 4
}
